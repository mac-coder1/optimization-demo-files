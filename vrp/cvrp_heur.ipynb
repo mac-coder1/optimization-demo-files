{
 "cells": [
  {
   "attachments": {},
   "cell_type": "markdown",
   "metadata": {},
   "source": [
    "# Heuristics - CVRP\n",
    "\n",
    "[OR-Tools Documentation](https://or-tools.github.io/docs/pdoc/ortools/constraint_solver/pywrapcp.html)\n",
    "\n",
    "To do:\n",
    "\n",
    "- Implement Engineer Input sheet (inc varying working hours)\n",
    "- Use to calculate proper metrics\n",
    "- Implement skills (and a couple more job types)\n",
    "- Allow incomplete jobs (to mimic more jobs than time available!)"
   ]
  },
  {
   "cell_type": "code",
   "execution_count": 1,
   "metadata": {},
   "outputs": [],
   "source": [
    "from itertools import cycle\n",
    "\n",
    "import numpy as np\n",
    "import pandas as pd\n",
    "from scipy.spatial.distance import pdist, squareform\n",
    "import matplotlib.pyplot as plt\n",
    "import matplotlib as mpl\n",
    "from ortools.constraint_solver import routing_enums_pb2\n",
    "from ortools.constraint_solver import pywrapcp\n",
    "\n",
    "import functions as f\n",
    "import importlib"
   ]
  },
  {
   "attachments": {},
   "cell_type": "markdown",
   "metadata": {},
   "source": [
    "## Instantiate data"
   ]
  },
  {
   "cell_type": "code",
   "execution_count": 2,
   "metadata": {},
   "outputs": [],
   "source": [
    "# assume indx 0 is the dummy end location\n",
    "dataset = pd.read_csv(\"./data/appointments.csv\", index_col=0)\n",
    "engineers = pd.read_csv(\"./data/engineers.csv\", index_col=0)\n",
    "\n",
    "n_vehicles = len(engineers)\n",
    "seniority_multiplier = engineers[\"seniority\"].values.tolist()\n",
    "start_locations = engineers[\"start\"].values.tolist()\n",
    "end_locations = engineers[\"end\"].values.tolist()\n",
    "start_times = engineers[\"start_min\"].values.tolist()  # in minutes from 8am\n",
    "end_times = engineers[\"end_min\"].values.tolist()  # in minutes from 8am\n",
    "\n",
    "\n",
    "for home_indx in start_locations:\n",
    "    dataset.loc[home_indx, \"timeslot\"] = \"AD\"\n",
    "    dataset.loc[home_indx, \"job_type\"] = \"start\"\n",
    "\n",
    "coordinates = dataset.loc[:, [\"x\", \"y\"]]\n",
    "\n",
    "N = coordinates.shape[0]"
   ]
  },
  {
   "cell_type": "code",
   "execution_count": 3,
   "metadata": {},
   "outputs": [],
   "source": [
    "# time windows, each each number represents 1 minute\n",
    "time_window_dict = {\n",
    "    \"AD\": [0, max(end_times)],  # 08:00 - 16:30\n",
    "    \"AM\": [0, 240],  # 08:00 - 12:00\n",
    "    \"PM\": [240, 510],  # 12:00 - 16:30\n",
    "}\n",
    "\n",
    "service_time_dict = {\"start\": 0, \"DF-M Commision\": 50, \"DF-M Exchange\": 100, \"end\": 0}"
   ]
  },
  {
   "cell_type": "code",
   "execution_count": 4,
   "metadata": {},
   "outputs": [],
   "source": [
    "time_matrix_multiplier = 1\n",
    "\n",
    "# assume travel time is proportional to euclidean distance\n",
    "time_matrix = squareform(pdist(coordinates, metric=\"euclidean\"))\n",
    "\n",
    "# reduce the drive times to make feasible solutions more likely, will adjust later!\n",
    "time_matrix = np.round(time_matrix * time_matrix_multiplier, decimals=0).astype(int)\n",
    "\n",
    "time_matrix[:, 0] = time_matrix[0, :] = (\n",
    "    0  # the end location is a dummy variable used to allow arbitrary end locations\n",
    ")"
   ]
  },
  {
   "attachments": {},
   "cell_type": "markdown",
   "metadata": {},
   "source": [
    "## Model"
   ]
  },
  {
   "cell_type": "code",
   "execution_count": 5,
   "metadata": {},
   "outputs": [],
   "source": [
    "# Create the routing index manager: number of nodes, number of vehicles, depot node\n",
    "manager = pywrapcp.RoutingIndexManager(N, n_vehicles, start_locations, end_locations)\n",
    "\n",
    "# Create Routing Model\n",
    "routing = pywrapcp.RoutingModel(manager)"
   ]
  },
  {
   "attachments": {},
   "cell_type": "markdown",
   "metadata": {},
   "source": [
    "### Parameters"
   ]
  },
  {
   "cell_type": "code",
   "execution_count": 6,
   "metadata": {},
   "outputs": [],
   "source": [
    "# must create a different time_callback for each vehicle\n",
    "def create_time_callback(vehicle_id):\n",
    "    def time_callback(from_index, to_index):\n",
    "        from_node = manager.IndexToNode(from_index)\n",
    "        to_node = manager.IndexToNode(to_index)\n",
    "        travel_time = time_matrix[from_node, to_node]\n",
    "\n",
    "        # convention is that job time added to drive FROM the job's node\n",
    "        service_time = int(\n",
    "            service_time_dict[dataset.loc[from_node, \"job_type\"]]\n",
    "            * seniority_multiplier[vehicle_id]\n",
    "        )\n",
    "\n",
    "        return travel_time + service_time\n",
    "\n",
    "    return time_callback\n",
    "\n",
    "\n",
    "transit_callback_indices = []\n",
    "\n",
    "# add callbacks so the solver can compute the time between nodes (including service times)\n",
    "for vehicle_id in range(n_vehicles):\n",
    "    transit_callback = create_time_callback(vehicle_id)\n",
    "    transit_callback_index = routing.RegisterTransitCallback(transit_callback)\n",
    "    transit_callback_indices.append(transit_callback_index)"
   ]
  },
  {
   "attachments": {},
   "cell_type": "markdown",
   "metadata": {},
   "source": [
    "### Constraints"
   ]
  },
  {
   "cell_type": "code",
   "execution_count": 7,
   "metadata": {},
   "outputs": [],
   "source": [
    "# Define time window contraints\n",
    "time = \"Time\"\n",
    "\n",
    "# create a CumulVar, for each location AND each vehicle\n",
    "# 0 to N_locations-1 (index and node order is different!), N_locations to N_locations+N_vehicles-1\n",
    "# VERY IMPORTANT, the use index for cumVars, not the node numbers\n",
    "routing.AddDimensionWithVehicleTransits(\n",
    "    transit_callback_indices,\n",
    "    max(end_times),  # allow waiting time\n",
    "    max(\n",
    "        end_times\n",
    "    ),  # maximum time per vehicle (and location but the range is set later)\n",
    "    True,  # start cumul to zero\n",
    "    time,\n",
    ")\n",
    "\n",
    "time_dimension = routing.GetDimensionOrDie(time)\n",
    "\n",
    "# add time window constraints for each location via the index!\n",
    "# cannot do for the depot as is special case\n",
    "for location_indx in dataset.index:\n",
    "    if location_indx == 0:\n",
    "        continue\n",
    "    elif location_indx in start_locations:\n",
    "        continue\n",
    "\n",
    "    timeslot = dataset.loc[location_indx, \"timeslot\"]\n",
    "\n",
    "    index = manager.NodeToIndex(location_indx)\n",
    "\n",
    "    time_dimension.CumulVar(index).SetRange(\n",
    "        time_window_dict[timeslot][0],\n",
    "        time_window_dict[timeslot][1],  # window depends on promised timeslot\n",
    "    )\n",
    "\n",
    "# Add max drive time for each vehicle\n",
    "# do this by setting the range of the end node for each vehicle\n",
    "for vehicle_id in range(n_vehicles):\n",
    "\n",
    "    end_index = routing.End(vehicle_id)\n",
    "    time_dimension.CumulVar(end_index).SetRange(\n",
    "        start_times[vehicle_id], end_times[vehicle_id]\n",
    "    )  # 8.5 hours max\n",
    "\n",
    "    # ensures engineer start during work hours, not strictly necessary but worth keeping in\n",
    "    start_index = routing.Start(vehicle_id)\n",
    "    time_dimension.CumulVar(start_index).SetRange(\n",
    "        start_times[vehicle_id], end_times[vehicle_id]\n",
    "    )  # 8.5 hours max\n",
    "\n",
    "# this for loop encourage the optimizer to minimse the time of the last job of each vehicle\n",
    "for i in range(n_vehicles):\n",
    "\n",
    "    # start as early as possible\n",
    "    routing.AddVariableMinimizedByFinalizer(time_dimension.CumulVar(routing.Start(i)))\n",
    "\n",
    "    # finish as early as possible\n",
    "    routing.AddVariableMinimizedByFinalizer(time_dimension.CumulVar(routing.End(i)))"
   ]
  },
  {
   "attachments": {},
   "cell_type": "markdown",
   "metadata": {},
   "source": [
    "### Objective"
   ]
  },
  {
   "cell_type": "code",
   "execution_count": 8,
   "metadata": {},
   "outputs": [],
   "source": [
    "# The cost of each arc is vehicle dependant!\n",
    "# Must link to correct callback\n",
    "for vehicle_id in range(n_vehicles):\n",
    "    routing.SetArcCostEvaluatorOfVehicle(\n",
    "        transit_callback_indices[vehicle_id], vehicle_id\n",
    "    )"
   ]
  },
  {
   "attachments": {},
   "cell_type": "markdown",
   "metadata": {},
   "source": [
    "### Solution"
   ]
  },
  {
   "cell_type": "code",
   "execution_count": 9,
   "metadata": {},
   "outputs": [],
   "source": [
    "# Setting heuristic strategies\n",
    "search_parameters = pywrapcp.DefaultRoutingSearchParameters()\n",
    "\n",
    "search_parameters.local_search_metaheuristic = (\n",
    "    routing_enums_pb2.LocalSearchMetaheuristic.GUIDED_LOCAL_SEARCH\n",
    ")\n",
    "\n",
    "search_parameters.time_limit.FromSeconds(2)\n",
    "\n",
    "# Solve the problem\n",
    "solution = routing.SolveWithParameters(search_parameters)"
   ]
  },
  {
   "cell_type": "code",
   "execution_count": 10,
   "metadata": {},
   "outputs": [
    {
     "data": {
      "text/plain": [
       "1692"
      ]
     },
     "execution_count": 10,
     "metadata": {},
     "output_type": "execute_result"
    }
   ],
   "source": [
    "solution.ObjectiveValue()"
   ]
  },
  {
   "cell_type": "markdown",
   "metadata": {},
   "source": [
    "### Plot Results"
   ]
  },
  {
   "cell_type": "code",
   "execution_count": 11,
   "metadata": {},
   "outputs": [
    {
     "name": "stdout",
     "output_type": "stream",
     "text": [
      "Key: |Node| A:Arrival, JT:Job Time, T:Travel Time, J:Job Time, F:Finish Time, WT: Work Time\n",
      "\n",
      "Vehicle 0: Available 0min -> 510min\n",
      "|4| A:0, TS: AD, JT:35, T:35, J:0 -> |13| A:240, TS: PM, JT:80, T:0, J:50 -> F:320 min\n",
      "Totals: J:50,    T:35, JT:115, F:320 min\n",
      "Percentages: J:9%,    T:6%, JT:22%, F:%62%\n",
      "\n",
      "Vehicle 1: Available 0min -> 400min\n",
      "|5| A:0, TS: AD, JT:43, T:43, J:0 -> |16| A:43, TS: AD, JT:139, T:89, J:50 -> |3| A:182, TS: AM, JT:75, T:25, J:50 -> |2| A:257, TS: PM, JT:86, T:36, J:50 -> |11| A:343, TS: AD, JT:50, T:0, J:50 -> F:393 min\n",
      "Totals: J:200,    T:193, JT:393, F:393 min\n",
      "Percentages: J:50%,    T:48%, JT:98%, F:%98%\n",
      "\n",
      "Vehicle 2: Available 0min -> 510min\n",
      "|6| A:0, TS: AD, JT:38, T:38, J:0 -> |12| A:38, TS: AM, JT:147, T:27, J:100 -> |18| A:185, TS: AM, JT:167, T:47, J:100 -> |8| A:352, TS: AD, JT:69, T:9, J:50 -> |1| A:421, TS: PM, JT:60, T:0, J:50 -> F:481 min\n",
      "Totals: J:300,    T:121, JT:481, F:481 min\n",
      "Percentages: J:58%,    T:23%, JT:94%, F:%94%\n",
      "\n",
      "Vehicle 3: Available 0min -> 600min\n",
      "|7| A:0, TS: AD, JT:100, T:100, J:0 -> |14| A:100, TS: AM, JT:81, T:1, J:50 -> |15| A:181, TS: AM, JT:160, T:0, J:100 -> F:341 min\n",
      "Totals: J:150,    T:101, JT:341, F:341 min\n",
      "Percentages: J:25%,    T:16%, JT:56%, F:%56%\n",
      "\n",
      "Vehicle 4: Available 0min -> 510min\n",
      "|10| A:0, TS: AD, JT:6, T:6, J:0 -> |9| A:6, TS: AM, JT:276, T:116, J:100 -> |17| A:282, TS: AD, JT:80, T:0, J:50 -> F:362 min\n",
      "Totals: J:150,    T:122, JT:362, F:362 min\n",
      "Percentages: J:29%,    T:23%, JT:70%, F:%70%\n",
      "\n",
      "Totals: J:850 T:572, JT:1692\n",
      "Average Utilisation: 34.61%\n",
      "\n",
      "Objective function value: 1692 min\n",
      "Ob function directly minimises JT, not finish time\n"
     ]
    }
   ],
   "source": [
    "importlib.reload(f)\n",
    "f.print_solution(\n",
    "    routing,\n",
    "    n_vehicles,\n",
    "    start_times,\n",
    "    end_times,\n",
    "    time_dimension,\n",
    "    solution,\n",
    "    manager,\n",
    "    time_matrix,\n",
    "    service_time_dict,\n",
    "    dataset,\n",
    ")"
   ]
  },
  {
   "cell_type": "code",
   "execution_count": 12,
   "metadata": {},
   "outputs": [
    {
     "name": "stdout",
     "output_type": "stream",
     "text": [
      "Appointments:\n",
      "Key: |Node| (timeslot): Att: Arrival Time\n",
      "AM [0, 240] min, PM [240, 510] min\n",
      "\n",
      "|1| (PM): Att 421\n",
      "|2| (PM): Att 257\n",
      "|3| (AM): Att 182\n",
      "|8| (AD): Att 352\n",
      "|9| (AM): Att 6\n",
      "|11| (AD): Att 343\n",
      "|12| (AM): Att 38\n",
      "|13| (PM): Att 240\n",
      "|14| (AM): Att 100\n",
      "|15| (AM): Att 181\n",
      "|16| (AD): Att 43\n",
      "|17| (AD): Att 282\n",
      "|18| (AM): Att 185\n"
     ]
    }
   ],
   "source": [
    "importlib.reload(f)\n",
    "f.print_appointments(\n",
    "    dataset, time_dimension, manager, solution, start_locations, time_window_dict\n",
    ")"
   ]
  },
  {
   "cell_type": "code",
   "execution_count": 15,
   "metadata": {},
   "outputs": [
    {
     "data": {
      "application/vnd.plotly.v1+json": {
       "config": {
        "plotlyServerURL": "https://plot.ly"
       },
       "data": [
        {
         "marker": {
          "color": "#636EFA"
         },
         "mode": "markers",
         "name": "R0",
         "type": "scatter",
         "x": [
          79,
          94
         ],
         "y": [
          64,
          32
         ]
        },
        {
         "line": {
          "color": "#636EFA"
         },
         "mode": "lines",
         "showlegend": false,
         "type": "scatter",
         "x": [
          79,
          94
         ],
         "y": [
          64,
          32
         ]
        },
        {
         "marker": {
          "color": "#EF553B"
         },
         "mode": "markers",
         "name": "R1",
         "type": "scatter",
         "x": [
          11,
          -32,
          -60,
          -84,
          -94
         ],
         "y": [
          87,
          90,
          5,
          11,
          -24
         ]
        },
        {
         "line": {
          "color": "#EF553B"
         },
         "mode": "lines",
         "showlegend": false,
         "type": "scatter",
         "x": [
          11,
          -32,
          -60,
          -84,
          -94
         ],
         "y": [
          87,
          90,
          5,
          11,
          -24
         ]
        },
        {
         "marker": {
          "color": "#00CC96"
         },
         "mode": "markers",
         "name": "R2",
         "type": "scatter",
         "x": [
          8,
          44,
          35,
          -11,
          -14
         ],
         "y": [
          68,
          55,
          30,
          20,
          12
         ]
        },
        {
         "line": {
          "color": "#00CC96"
         },
         "mode": "lines",
         "showlegend": false,
         "type": "scatter",
         "x": [
          8,
          44,
          35,
          -11,
          -14
         ],
         "y": [
          68,
          55,
          30,
          20,
          12
         ]
        },
        {
         "marker": {
          "color": "#AB63FA"
         },
         "mode": "markers",
         "name": "R3",
         "type": "scatter",
         "x": [
          -4,
          -101,
          -101
         ],
         "y": [
          24,
          1,
          0
         ]
        },
        {
         "line": {
          "color": "#AB63FA"
         },
         "mode": "lines",
         "showlegend": false,
         "type": "scatter",
         "x": [
          -4,
          -101,
          -101
         ],
         "y": [
          24,
          1,
          0
         ]
        },
        {
         "marker": {
          "color": "#FFA15A"
         },
         "mode": "markers",
         "name": "R4",
         "type": "scatter",
         "x": [
          27,
          22,
          28
         ],
         "y": [
          -2,
          -5,
          -121
         ]
        },
        {
         "line": {
          "color": "#FFA15A"
         },
         "mode": "lines",
         "showlegend": false,
         "type": "scatter",
         "x": [
          27,
          22,
          28
         ],
         "y": [
          -2,
          -5,
          -121
         ]
        }
       ],
       "layout": {
        "legend": {
         "bgcolor": "rgba(255, 255, 255, 0.5)",
         "title": {
          "text": "Tours"
         },
         "x": 1,
         "xanchor": "left",
         "y": 1.02,
         "yanchor": "top"
        },
        "margin": {
         "b": 0,
         "l": 0,
         "r": 0,
         "t": 40
        },
        "template": {
         "data": {
          "bar": [
           {
            "error_x": {
             "color": "#2a3f5f"
            },
            "error_y": {
             "color": "#2a3f5f"
            },
            "marker": {
             "line": {
              "color": "#E5ECF6",
              "width": 0.5
             },
             "pattern": {
              "fillmode": "overlay",
              "size": 10,
              "solidity": 0.2
             }
            },
            "type": "bar"
           }
          ],
          "barpolar": [
           {
            "marker": {
             "line": {
              "color": "#E5ECF6",
              "width": 0.5
             },
             "pattern": {
              "fillmode": "overlay",
              "size": 10,
              "solidity": 0.2
             }
            },
            "type": "barpolar"
           }
          ],
          "carpet": [
           {
            "aaxis": {
             "endlinecolor": "#2a3f5f",
             "gridcolor": "white",
             "linecolor": "white",
             "minorgridcolor": "white",
             "startlinecolor": "#2a3f5f"
            },
            "baxis": {
             "endlinecolor": "#2a3f5f",
             "gridcolor": "white",
             "linecolor": "white",
             "minorgridcolor": "white",
             "startlinecolor": "#2a3f5f"
            },
            "type": "carpet"
           }
          ],
          "choropleth": [
           {
            "colorbar": {
             "outlinewidth": 0,
             "ticks": ""
            },
            "type": "choropleth"
           }
          ],
          "contour": [
           {
            "colorbar": {
             "outlinewidth": 0,
             "ticks": ""
            },
            "colorscale": [
             [
              0,
              "#0d0887"
             ],
             [
              0.1111111111111111,
              "#46039f"
             ],
             [
              0.2222222222222222,
              "#7201a8"
             ],
             [
              0.3333333333333333,
              "#9c179e"
             ],
             [
              0.4444444444444444,
              "#bd3786"
             ],
             [
              0.5555555555555556,
              "#d8576b"
             ],
             [
              0.6666666666666666,
              "#ed7953"
             ],
             [
              0.7777777777777778,
              "#fb9f3a"
             ],
             [
              0.8888888888888888,
              "#fdca26"
             ],
             [
              1,
              "#f0f921"
             ]
            ],
            "type": "contour"
           }
          ],
          "contourcarpet": [
           {
            "colorbar": {
             "outlinewidth": 0,
             "ticks": ""
            },
            "type": "contourcarpet"
           }
          ],
          "heatmap": [
           {
            "colorbar": {
             "outlinewidth": 0,
             "ticks": ""
            },
            "colorscale": [
             [
              0,
              "#0d0887"
             ],
             [
              0.1111111111111111,
              "#46039f"
             ],
             [
              0.2222222222222222,
              "#7201a8"
             ],
             [
              0.3333333333333333,
              "#9c179e"
             ],
             [
              0.4444444444444444,
              "#bd3786"
             ],
             [
              0.5555555555555556,
              "#d8576b"
             ],
             [
              0.6666666666666666,
              "#ed7953"
             ],
             [
              0.7777777777777778,
              "#fb9f3a"
             ],
             [
              0.8888888888888888,
              "#fdca26"
             ],
             [
              1,
              "#f0f921"
             ]
            ],
            "type": "heatmap"
           }
          ],
          "heatmapgl": [
           {
            "colorbar": {
             "outlinewidth": 0,
             "ticks": ""
            },
            "colorscale": [
             [
              0,
              "#0d0887"
             ],
             [
              0.1111111111111111,
              "#46039f"
             ],
             [
              0.2222222222222222,
              "#7201a8"
             ],
             [
              0.3333333333333333,
              "#9c179e"
             ],
             [
              0.4444444444444444,
              "#bd3786"
             ],
             [
              0.5555555555555556,
              "#d8576b"
             ],
             [
              0.6666666666666666,
              "#ed7953"
             ],
             [
              0.7777777777777778,
              "#fb9f3a"
             ],
             [
              0.8888888888888888,
              "#fdca26"
             ],
             [
              1,
              "#f0f921"
             ]
            ],
            "type": "heatmapgl"
           }
          ],
          "histogram": [
           {
            "marker": {
             "pattern": {
              "fillmode": "overlay",
              "size": 10,
              "solidity": 0.2
             }
            },
            "type": "histogram"
           }
          ],
          "histogram2d": [
           {
            "colorbar": {
             "outlinewidth": 0,
             "ticks": ""
            },
            "colorscale": [
             [
              0,
              "#0d0887"
             ],
             [
              0.1111111111111111,
              "#46039f"
             ],
             [
              0.2222222222222222,
              "#7201a8"
             ],
             [
              0.3333333333333333,
              "#9c179e"
             ],
             [
              0.4444444444444444,
              "#bd3786"
             ],
             [
              0.5555555555555556,
              "#d8576b"
             ],
             [
              0.6666666666666666,
              "#ed7953"
             ],
             [
              0.7777777777777778,
              "#fb9f3a"
             ],
             [
              0.8888888888888888,
              "#fdca26"
             ],
             [
              1,
              "#f0f921"
             ]
            ],
            "type": "histogram2d"
           }
          ],
          "histogram2dcontour": [
           {
            "colorbar": {
             "outlinewidth": 0,
             "ticks": ""
            },
            "colorscale": [
             [
              0,
              "#0d0887"
             ],
             [
              0.1111111111111111,
              "#46039f"
             ],
             [
              0.2222222222222222,
              "#7201a8"
             ],
             [
              0.3333333333333333,
              "#9c179e"
             ],
             [
              0.4444444444444444,
              "#bd3786"
             ],
             [
              0.5555555555555556,
              "#d8576b"
             ],
             [
              0.6666666666666666,
              "#ed7953"
             ],
             [
              0.7777777777777778,
              "#fb9f3a"
             ],
             [
              0.8888888888888888,
              "#fdca26"
             ],
             [
              1,
              "#f0f921"
             ]
            ],
            "type": "histogram2dcontour"
           }
          ],
          "mesh3d": [
           {
            "colorbar": {
             "outlinewidth": 0,
             "ticks": ""
            },
            "type": "mesh3d"
           }
          ],
          "parcoords": [
           {
            "line": {
             "colorbar": {
              "outlinewidth": 0,
              "ticks": ""
             }
            },
            "type": "parcoords"
           }
          ],
          "pie": [
           {
            "automargin": true,
            "type": "pie"
           }
          ],
          "scatter": [
           {
            "fillpattern": {
             "fillmode": "overlay",
             "size": 10,
             "solidity": 0.2
            },
            "type": "scatter"
           }
          ],
          "scatter3d": [
           {
            "line": {
             "colorbar": {
              "outlinewidth": 0,
              "ticks": ""
             }
            },
            "marker": {
             "colorbar": {
              "outlinewidth": 0,
              "ticks": ""
             }
            },
            "type": "scatter3d"
           }
          ],
          "scattercarpet": [
           {
            "marker": {
             "colorbar": {
              "outlinewidth": 0,
              "ticks": ""
             }
            },
            "type": "scattercarpet"
           }
          ],
          "scattergeo": [
           {
            "marker": {
             "colorbar": {
              "outlinewidth": 0,
              "ticks": ""
             }
            },
            "type": "scattergeo"
           }
          ],
          "scattergl": [
           {
            "marker": {
             "colorbar": {
              "outlinewidth": 0,
              "ticks": ""
             }
            },
            "type": "scattergl"
           }
          ],
          "scattermapbox": [
           {
            "marker": {
             "colorbar": {
              "outlinewidth": 0,
              "ticks": ""
             }
            },
            "type": "scattermapbox"
           }
          ],
          "scatterpolar": [
           {
            "marker": {
             "colorbar": {
              "outlinewidth": 0,
              "ticks": ""
             }
            },
            "type": "scatterpolar"
           }
          ],
          "scatterpolargl": [
           {
            "marker": {
             "colorbar": {
              "outlinewidth": 0,
              "ticks": ""
             }
            },
            "type": "scatterpolargl"
           }
          ],
          "scatterternary": [
           {
            "marker": {
             "colorbar": {
              "outlinewidth": 0,
              "ticks": ""
             }
            },
            "type": "scatterternary"
           }
          ],
          "surface": [
           {
            "colorbar": {
             "outlinewidth": 0,
             "ticks": ""
            },
            "colorscale": [
             [
              0,
              "#0d0887"
             ],
             [
              0.1111111111111111,
              "#46039f"
             ],
             [
              0.2222222222222222,
              "#7201a8"
             ],
             [
              0.3333333333333333,
              "#9c179e"
             ],
             [
              0.4444444444444444,
              "#bd3786"
             ],
             [
              0.5555555555555556,
              "#d8576b"
             ],
             [
              0.6666666666666666,
              "#ed7953"
             ],
             [
              0.7777777777777778,
              "#fb9f3a"
             ],
             [
              0.8888888888888888,
              "#fdca26"
             ],
             [
              1,
              "#f0f921"
             ]
            ],
            "type": "surface"
           }
          ],
          "table": [
           {
            "cells": {
             "fill": {
              "color": "#EBF0F8"
             },
             "line": {
              "color": "white"
             }
            },
            "header": {
             "fill": {
              "color": "#C8D4E3"
             },
             "line": {
              "color": "white"
             }
            },
            "type": "table"
           }
          ]
         },
         "layout": {
          "annotationdefaults": {
           "arrowcolor": "#2a3f5f",
           "arrowhead": 0,
           "arrowwidth": 1
          },
          "autotypenumbers": "strict",
          "coloraxis": {
           "colorbar": {
            "outlinewidth": 0,
            "ticks": ""
           }
          },
          "colorscale": {
           "diverging": [
            [
             0,
             "#8e0152"
            ],
            [
             0.1,
             "#c51b7d"
            ],
            [
             0.2,
             "#de77ae"
            ],
            [
             0.3,
             "#f1b6da"
            ],
            [
             0.4,
             "#fde0ef"
            ],
            [
             0.5,
             "#f7f7f7"
            ],
            [
             0.6,
             "#e6f5d0"
            ],
            [
             0.7,
             "#b8e186"
            ],
            [
             0.8,
             "#7fbc41"
            ],
            [
             0.9,
             "#4d9221"
            ],
            [
             1,
             "#276419"
            ]
           ],
           "sequential": [
            [
             0,
             "#0d0887"
            ],
            [
             0.1111111111111111,
             "#46039f"
            ],
            [
             0.2222222222222222,
             "#7201a8"
            ],
            [
             0.3333333333333333,
             "#9c179e"
            ],
            [
             0.4444444444444444,
             "#bd3786"
            ],
            [
             0.5555555555555556,
             "#d8576b"
            ],
            [
             0.6666666666666666,
             "#ed7953"
            ],
            [
             0.7777777777777778,
             "#fb9f3a"
            ],
            [
             0.8888888888888888,
             "#fdca26"
            ],
            [
             1,
             "#f0f921"
            ]
           ],
           "sequentialminus": [
            [
             0,
             "#0d0887"
            ],
            [
             0.1111111111111111,
             "#46039f"
            ],
            [
             0.2222222222222222,
             "#7201a8"
            ],
            [
             0.3333333333333333,
             "#9c179e"
            ],
            [
             0.4444444444444444,
             "#bd3786"
            ],
            [
             0.5555555555555556,
             "#d8576b"
            ],
            [
             0.6666666666666666,
             "#ed7953"
            ],
            [
             0.7777777777777778,
             "#fb9f3a"
            ],
            [
             0.8888888888888888,
             "#fdca26"
            ],
            [
             1,
             "#f0f921"
            ]
           ]
          },
          "colorway": [
           "#636efa",
           "#EF553B",
           "#00cc96",
           "#ab63fa",
           "#FFA15A",
           "#19d3f3",
           "#FF6692",
           "#B6E880",
           "#FF97FF",
           "#FECB52"
          ],
          "font": {
           "color": "#2a3f5f"
          },
          "geo": {
           "bgcolor": "white",
           "lakecolor": "white",
           "landcolor": "#E5ECF6",
           "showlakes": true,
           "showland": true,
           "subunitcolor": "white"
          },
          "hoverlabel": {
           "align": "left"
          },
          "hovermode": "closest",
          "mapbox": {
           "style": "light"
          },
          "paper_bgcolor": "white",
          "plot_bgcolor": "#E5ECF6",
          "polar": {
           "angularaxis": {
            "gridcolor": "white",
            "linecolor": "white",
            "ticks": ""
           },
           "bgcolor": "#E5ECF6",
           "radialaxis": {
            "gridcolor": "white",
            "linecolor": "white",
            "ticks": ""
           }
          },
          "scene": {
           "xaxis": {
            "backgroundcolor": "#E5ECF6",
            "gridcolor": "white",
            "gridwidth": 2,
            "linecolor": "white",
            "showbackground": true,
            "ticks": "",
            "zerolinecolor": "white"
           },
           "yaxis": {
            "backgroundcolor": "#E5ECF6",
            "gridcolor": "white",
            "gridwidth": 2,
            "linecolor": "white",
            "showbackground": true,
            "ticks": "",
            "zerolinecolor": "white"
           },
           "zaxis": {
            "backgroundcolor": "#E5ECF6",
            "gridcolor": "white",
            "gridwidth": 2,
            "linecolor": "white",
            "showbackground": true,
            "ticks": "",
            "zerolinecolor": "white"
           }
          },
          "shapedefaults": {
           "line": {
            "color": "#2a3f5f"
           }
          },
          "ternary": {
           "aaxis": {
            "gridcolor": "white",
            "linecolor": "white",
            "ticks": ""
           },
           "baxis": {
            "gridcolor": "white",
            "linecolor": "white",
            "ticks": ""
           },
           "bgcolor": "#E5ECF6",
           "caxis": {
            "gridcolor": "white",
            "linecolor": "white",
            "ticks": ""
           }
          },
          "title": {
           "x": 0.05
          },
          "xaxis": {
           "automargin": true,
           "gridcolor": "white",
           "linecolor": "white",
           "ticks": "",
           "title": {
            "standoff": 15
           },
           "zerolinecolor": "white",
           "zerolinewidth": 2
          },
          "yaxis": {
           "automargin": true,
           "gridcolor": "white",
           "linecolor": "white",
           "ticks": "",
           "title": {
            "standoff": 15
           },
           "zerolinecolor": "white",
           "zerolinewidth": 2
          }
         }
        },
        "title": {
         "text": "Tours Visualization"
        },
        "xaxis": {
         "title": {
          "text": "X Coordinates"
         }
        },
        "yaxis": {
         "title": {
          "text": "Y Coordinates"
         }
        }
       }
      }
     },
     "metadata": {},
     "output_type": "display_data"
    }
   ],
   "source": [
    "importlib.reload(f)\n",
    "tours = f.compile_tours(n_vehicles, routing, manager, solution, True)\n",
    "fig = f.plot_tours(tours, coordinates)\n",
    "fig.show()"
   ]
  }
 ],
 "metadata": {
  "kernelspec": {
   "display_name": "venv",
   "language": "python",
   "name": "python3"
  },
  "language_info": {
   "codemirror_mode": {
    "name": "ipython",
    "version": 3
   },
   "file_extension": ".py",
   "mimetype": "text/x-python",
   "name": "python",
   "nbconvert_exporter": "python",
   "pygments_lexer": "ipython3",
   "version": "3.11.7"
  },
  "orig_nbformat": 4
 },
 "nbformat": 4,
 "nbformat_minor": 2
}
