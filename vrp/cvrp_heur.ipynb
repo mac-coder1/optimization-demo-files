{
 "cells": [
  {
   "attachments": {},
   "cell_type": "markdown",
   "metadata": {},
   "source": [
    "# Heuristics - CVRP"
   ]
  },
  {
   "cell_type": "code",
   "execution_count": null,
   "metadata": {},
   "outputs": [],
   "source": [
    "from itertools import cycle\n",
    "\n",
    "import numpy as np\n",
    "import pandas as pd\n",
    "from scipy.spatial.distance import pdist, squareform\n",
    "import matplotlib.pyplot as plt\n",
    "import matplotlib as mpl\n",
    "from ortools.constraint_solver import routing_enums_pb2\n",
    "from ortools.constraint_solver import pywrapcp\n",
    "\n",
    "import functions as f\n",
    "import importlib"
   ]
  },
  {
   "attachments": {},
   "cell_type": "markdown",
   "metadata": {},
   "source": [
    "## Instantiate data"
   ]
  },
  {
   "cell_type": "code",
   "execution_count": null,
   "metadata": {},
   "outputs": [],
   "source": [
    "dataset = pd.read_csv(\"./data/custom_19.csv\", index_col=0)\n",
    "coordinates = dataset.loc[:, [\"x\", \"y\"]]"
   ]
  },
  {
   "cell_type": "code",
   "execution_count": null,
   "metadata": {},
   "outputs": [],
   "source": [
    "n_vehicles = 4\n",
    "start_locations = [0, 2, 3, 5]\n",
    "end_locations = [0, 2, 3, 5]\n",
    "\n",
    "# set timeslots for the start locations to zero\n",
    "for home_indx in start_locations:\n",
    "    dataset.loc[home_indx, \"timeslot\"] = np.nan\n",
    "\n",
    "allow_arbitrary_end_locations = True  # when True, the end locations are not fixed\n",
    "# this is done by adding a dummy node to the graph that has zero travel time to all locations\n",
    "\n",
    "if allow_arbitrary_end_locations:\n",
    "    end_locations = [len(coordinates)] * n_vehicles\n",
    "    arbitrary_end_location = pd.DataFrame(\n",
    "        {\"x\": {len(coordinates): 99}, \"y\": {len(coordinates): 99}}\n",
    "    )\n",
    "    coordinates = pd.concat([coordinates, arbitrary_end_location], axis=0)\n",
    "\n",
    "N = coordinates.shape[0]"
   ]
  },
  {
   "cell_type": "code",
   "execution_count": null,
   "metadata": {},
   "outputs": [],
   "source": [
    "# time windows, each each number represents 1 minute\n",
    "time_window_dict = {\n",
    "    \"AD\": [0, 510],  # 08:00 - 16:30\n",
    "    \"AM\": [0, 240],  # 08:00 - 12:00\n",
    "    \"PM\": [240, 510],  # 12:00 - 16:30\n",
    "}"
   ]
  },
  {
   "cell_type": "code",
   "execution_count": null,
   "metadata": {},
   "outputs": [],
   "source": [
    "time_matrix_multiplier = 2  # used to make the drive times fill the day more\n",
    "\n",
    "# assume travel time is proportional to euclidean distance\n",
    "time_matrix = squareform(pdist(coordinates, metric=\"euclidean\"))\n",
    "\n",
    "# reduce the drive times to make feasible solutions more likely, will adjust later!\n",
    "time_matrix = np.round(time_matrix * time_matrix_multiplier, decimals=0).astype(int)\n",
    "\n",
    "if allow_arbitrary_end_locations:\n",
    "    time_matrix[:, -1] = time_matrix[-1, :] = 0"
   ]
  },
  {
   "attachments": {},
   "cell_type": "markdown",
   "metadata": {},
   "source": [
    "## Model"
   ]
  },
  {
   "cell_type": "code",
   "execution_count": null,
   "metadata": {},
   "outputs": [],
   "source": [
    "# Create the routing index manager: number of nodes, number of vehicles, depot node\n",
    "manager = pywrapcp.RoutingIndexManager(N, n_vehicles, start_locations, end_locations)\n",
    "\n",
    "# Create Routing Model\n",
    "routing = pywrapcp.RoutingModel(manager)"
   ]
  },
  {
   "attachments": {},
   "cell_type": "markdown",
   "metadata": {},
   "source": [
    "### Parameters"
   ]
  },
  {
   "cell_type": "code",
   "execution_count": null,
   "metadata": {},
   "outputs": [],
   "source": [
    "# Same valid for any callback related to arcs/edges\n",
    "def time_callback(from_index, to_index):\n",
    "    from_node = manager.IndexToNode(from_index)\n",
    "    to_node = manager.IndexToNode(to_index)\n",
    "    return time_matrix[from_node, to_node]\n",
    "\n",
    "\n",
    "transit_callback_index = routing.RegisterTransitCallback(time_callback)"
   ]
  },
  {
   "cell_type": "code",
   "execution_count": null,
   "metadata": {},
   "outputs": [],
   "source": [
    "# # Same valid for any callback related to nodes\n",
    "# def demand_callback(from_index):\n",
    "#     from_node = manager.IndexToNode(from_index)\n",
    "#     return demands[from_node]\n",
    "\n",
    "# demand_callback_index = routing.RegisterUnaryTransitCallback(demand_callback)"
   ]
  },
  {
   "attachments": {},
   "cell_type": "markdown",
   "metadata": {},
   "source": [
    "### Constraints"
   ]
  },
  {
   "cell_type": "code",
   "execution_count": null,
   "metadata": {},
   "outputs": [],
   "source": [
    "# # Any constraint associated with vehicles can take same arguments\n",
    "# routing.AddDimensionWithVehicleCapacity(\n",
    "#     demand_callback_index,\n",
    "#     0,  # null capacity slack\n",
    "#     [capacity,] * n_vehicles,  # vehicle maximum capacities (list for each vehicle)\n",
    "#     True,  # start cumul to zero\n",
    "#     'Capacity'\n",
    "# )"
   ]
  },
  {
   "cell_type": "code",
   "execution_count": null,
   "metadata": {},
   "outputs": [],
   "source": [
    "# Define time window contraints\n",
    "time = \"Time\"\n",
    "\n",
    "routing.AddDimension(\n",
    "    transit_callback_index,\n",
    "    600,  # allow waiting time\n",
    "    600,  # maximum time per vehicle\n",
    "    True,  # start cumul to zero\n",
    "    time,\n",
    ")\n",
    "\n",
    "time_dimension = routing.GetDimensionOrDie(time)\n",
    "\n",
    "for location_indx in dataset.index:\n",
    "    timeslot = dataset.loc[location_indx, \"timeslot\"]\n",
    "\n",
    "    if timeslot is np.nan:  # no time_windows for start locations\n",
    "        continue\n",
    "\n",
    "    index = manager.NodeToIndex(location_indx)\n",
    "    time_dimension.CumulVar(index).SetRange(\n",
    "        time_window_dict[timeslot][0],\n",
    "        time_window_dict[timeslot][1],  # window depends on promised timeslot\n",
    "    )"
   ]
  },
  {
   "attachments": {},
   "cell_type": "markdown",
   "metadata": {},
   "source": [
    "### Objective"
   ]
  },
  {
   "cell_type": "code",
   "execution_count": null,
   "metadata": {},
   "outputs": [],
   "source": [
    "# Define cost of each arc\n",
    "routing.SetArcCostEvaluatorOfAllVehicles(transit_callback_index)"
   ]
  },
  {
   "attachments": {},
   "cell_type": "markdown",
   "metadata": {},
   "source": [
    "### Solution"
   ]
  },
  {
   "cell_type": "code",
   "execution_count": null,
   "metadata": {},
   "outputs": [],
   "source": [
    "# Setting heuristic strategies\n",
    "search_parameters = pywrapcp.DefaultRoutingSearchParameters()\n",
    "\n",
    "search_parameters.local_search_metaheuristic = (\n",
    "    routing_enums_pb2.LocalSearchMetaheuristic.GUIDED_LOCAL_SEARCH\n",
    ")\n",
    "\n",
    "search_parameters.time_limit.FromSeconds(1)\n",
    "\n",
    "# Solve the problem\n",
    "solution = routing.SolveWithParameters(search_parameters)"
   ]
  },
  {
   "cell_type": "code",
   "execution_count": null,
   "metadata": {},
   "outputs": [],
   "source": [
    "solution.ObjectiveValue()"
   ]
  },
  {
   "cell_type": "markdown",
   "metadata": {},
   "source": [
    "### Plot Results"
   ]
  },
  {
   "cell_type": "code",
   "execution_count": null,
   "metadata": {},
   "outputs": [],
   "source": [
    "importlib.reload(f)\n",
    "tours, travel_times = f.compile_tours(\n",
    "    n_vehicles, routing, manager, solution, allow_arbitrary_end_locations, time_callback\n",
    ")"
   ]
  },
  {
   "cell_type": "code",
   "execution_count": null,
   "metadata": {},
   "outputs": [],
   "source": [
    "travel_times"
   ]
  },
  {
   "cell_type": "code",
   "execution_count": null,
   "metadata": {},
   "outputs": [],
   "source": [
    "sum(travel_times[3])"
   ]
  },
  {
   "cell_type": "code",
   "execution_count": null,
   "metadata": {},
   "outputs": [],
   "source": [
    "importlib.reload(f)\n",
    "fig = f.plot_tours(tours, coordinates)\n",
    "fig.show()"
   ]
  }
 ],
 "metadata": {
  "kernelspec": {
   "display_name": "venv",
   "language": "python",
   "name": "python3"
  },
  "language_info": {
   "codemirror_mode": {
    "name": "ipython",
    "version": 3
   },
   "file_extension": ".py",
   "mimetype": "text/x-python",
   "name": "python",
   "nbconvert_exporter": "python",
   "pygments_lexer": "ipython3",
   "version": "3.11.7"
  },
  "orig_nbformat": 4
 },
 "nbformat": 4,
 "nbformat_minor": 2
}
