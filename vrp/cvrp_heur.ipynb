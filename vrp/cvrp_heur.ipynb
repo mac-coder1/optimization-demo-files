{
 "cells": [
  {
   "attachments": {},
   "cell_type": "markdown",
   "metadata": {},
   "source": [
    "# Heuristics - CVRP"
   ]
  },
  {
   "cell_type": "code",
   "execution_count": 16,
   "metadata": {},
   "outputs": [],
   "source": [
    "from itertools import cycle\n",
    "\n",
    "import numpy as np\n",
    "import pandas as pd\n",
    "from scipy.spatial.distance import pdist, squareform\n",
    "import matplotlib.pyplot as plt\n",
    "import matplotlib as mpl\n",
    "from ortools.constraint_solver import routing_enums_pb2\n",
    "from ortools.constraint_solver import pywrapcp\n",
    "\n",
    "import functions as f\n",
    "import importlib"
   ]
  },
  {
   "attachments": {},
   "cell_type": "markdown",
   "metadata": {},
   "source": [
    "## Instantiate data"
   ]
  },
  {
   "cell_type": "code",
   "execution_count": 17,
   "metadata": {},
   "outputs": [],
   "source": [
    "dataset = pd.read_csv(\"./data/custom_19.csv\", index_col=0)\n",
    "coordinates = dataset.loc[:, [\"x\", \"y\"]]"
   ]
  },
  {
   "cell_type": "code",
   "execution_count": 18,
   "metadata": {},
   "outputs": [],
   "source": [
    "n_vehicles = 4\n",
    "seniority_multiplier = [1, 1.2, 1.6, 1]\n",
    "start_locations = [0, 2, 3, 5]\n",
    "end_locations = start_locations\n",
    "\n",
    "# set timeslots for the start locations to zero\n",
    "for home_indx in start_locations:\n",
    "    dataset.loc[home_indx, \"timeslot\"] = np.nan\n",
    "    dataset.loc[home_indx, \"job_type\"] = \"start\"\n",
    "\n",
    "allow_arbitrary_end_locations = True  # when True, the end locations are not fixed\n",
    "# this is done by adding a dummy node to the graph that has zero travel time to all locations\n",
    "\n",
    "if allow_arbitrary_end_locations:\n",
    "    end_locations = [len(coordinates)] * n_vehicles\n",
    "    arbitrary_end_location = pd.DataFrame(\n",
    "        {\"x\": {len(coordinates): 99}, \"y\": {len(coordinates): 99}}\n",
    "    )\n",
    "    coordinates = pd.concat([coordinates, arbitrary_end_location], axis=0)\n",
    "\n",
    "N = coordinates.shape[0]"
   ]
  },
  {
   "cell_type": "code",
   "execution_count": 19,
   "metadata": {},
   "outputs": [],
   "source": [
    "# time windows, each each number represents 1 minute\n",
    "time_window_dict = {\n",
    "    \"AD\": [0, 510],  # 08:00 - 16:30\n",
    "    \"AM\": [0, 240],  # 08:00 - 12:00\n",
    "    \"PM\": [240, 510],  # 12:00 - 16:30\n",
    "}\n",
    "\n",
    "service_time_dict = {\n",
    "    \"start\": 0,\n",
    "    \"DF-M Commision\": 50,\n",
    "    \"DF-M Exchange\": 100,\n",
    "}"
   ]
  },
  {
   "cell_type": "code",
   "execution_count": 20,
   "metadata": {},
   "outputs": [],
   "source": [
    "time_matrix_multiplier = 1  # used to make the drive times fill the day more\n",
    "\n",
    "# assume travel time is proportional to euclidean distance\n",
    "time_matrix = squareform(pdist(coordinates, metric=\"euclidean\"))\n",
    "\n",
    "# reduce the drive times to make feasible solutions more likely, will adjust later!\n",
    "time_matrix = np.round(time_matrix * time_matrix_multiplier, decimals=0).astype(int)\n",
    "\n",
    "if allow_arbitrary_end_locations:\n",
    "    time_matrix[:, -1] = time_matrix[-1, :] = 0\n",
    "\n",
    "    # need to add in the last location to the dataset for the time callback\n",
    "    dataset.loc[len(dataset)] = [np.nan, np.nan, np.nan, \"start\"]"
   ]
  },
  {
   "attachments": {},
   "cell_type": "markdown",
   "metadata": {},
   "source": [
    "## Model"
   ]
  },
  {
   "cell_type": "code",
   "execution_count": 21,
   "metadata": {},
   "outputs": [],
   "source": [
    "# Create the routing index manager: number of nodes, number of vehicles, depot node\n",
    "manager = pywrapcp.RoutingIndexManager(N, n_vehicles, start_locations, end_locations)\n",
    "\n",
    "# Create Routing Model\n",
    "routing = pywrapcp.RoutingModel(manager)"
   ]
  },
  {
   "attachments": {},
   "cell_type": "markdown",
   "metadata": {},
   "source": [
    "### Parameters"
   ]
  },
  {
   "cell_type": "code",
   "execution_count": 22,
   "metadata": {},
   "outputs": [],
   "source": [
    "# # Same valid for any callback related to arcs/edges\n",
    "# def time_callback(from_index, to_index):\n",
    "#     from_node = manager.IndexToNode(from_index)\n",
    "#     to_node = manager.IndexToNode(to_index)\n",
    "\n",
    "#     # vehicle_id = routing.VehicleVar(from_index).Value()\n",
    "\n",
    "#     travel_time = time_matrix[from_node, to_node]\n",
    "\n",
    "#     service_time = int(service_time_dict[dataset.loc[from_node, \"job_type\"]]) # * seniority_multiplier[vehicle_id])\n",
    "\n",
    "#     return (\n",
    "#         travel_time\n",
    "#     )\n",
    "#     # convention is that time is added upon leaving the previous node\n",
    "#     # return time_matrix[from_node, to_node] + service_time_dict[\n",
    "#     #     dataset.loc[from_node, \"job_type\"]\n",
    "#     #     ]\n",
    "\n",
    "\n",
    "# transit_callback_index = routing.RegisterTransitCallback(time_callback)"
   ]
  },
  {
   "cell_type": "code",
   "execution_count": 23,
   "metadata": {},
   "outputs": [],
   "source": [
    "def create_time_callback(vehicle_id):\n",
    "    def time_callback(from_index, to_index):\n",
    "        from_node = manager.IndexToNode(from_index)\n",
    "        to_node = manager.IndexToNode(to_index)\n",
    "        travel_time = time_matrix[from_node, to_node]\n",
    "\n",
    "        service_time = int(service_time_dict[dataset.loc[from_node, \"job_type\"]] * seniority_multiplier[vehicle_id])\n",
    "\n",
    "        return travel_time + service_time\n",
    "    \n",
    "    return time_callback\n",
    "\n",
    "transit_callback_indices = []\n",
    "\n",
    "for vehicle_id in range(n_vehicles):\n",
    "    transit_callback = create_time_callback(vehicle_id)\n",
    "    transit_callback_index = routing.RegisterTransitCallback(transit_callback)\n",
    "    transit_callback_indices.append(transit_callback_index)"
   ]
  },
  {
   "attachments": {},
   "cell_type": "markdown",
   "metadata": {},
   "source": [
    "### Constraints"
   ]
  },
  {
   "cell_type": "code",
   "execution_count": 25,
   "metadata": {},
   "outputs": [
    {
     "data": {
      "text/plain": [
       "4"
      ]
     },
     "execution_count": 25,
     "metadata": {},
     "output_type": "execute_result"
    }
   ],
   "source": [
    "transit_callback_index"
   ]
  },
  {
   "cell_type": "code",
   "execution_count": 9,
   "metadata": {},
   "outputs": [],
   "source": [
    "# Define time window contraints\n",
    "time = \"Time\"\n",
    "\n",
    "routing.AddDimensionWithVehicleTransits(\n",
    "    transit_callback_indices,\n",
    "    600,  # allow waiting time\n",
    "    600,  # maximum time per vehicle\n",
    "    True,  # start cumul to zero\n",
    "    time,\n",
    ")\n",
    "\n",
    "time_dimension = routing.GetDimensionOrDie(time)\n",
    "\n",
    "for location_indx in dataset.index:\n",
    "    timeslot = dataset.loc[location_indx, \"timeslot\"]\n",
    "\n",
    "    if timeslot is np.nan:  # no time_windows for start locations\n",
    "        continue\n",
    "\n",
    "    index = manager.NodeToIndex(location_indx)\n",
    "\n",
    "    time_dimension.CumulVar(index).SetRange(\n",
    "        time_window_dict[timeslot][0],\n",
    "        time_window_dict[timeslot][1],  # window depends on promised timeslot\n",
    "    )"
   ]
  },
  {
   "attachments": {},
   "cell_type": "markdown",
   "metadata": {},
   "source": [
    "### Objective"
   ]
  },
  {
   "cell_type": "code",
   "execution_count": 10,
   "metadata": {},
   "outputs": [],
   "source": [
    "# Define cost of each arc\n",
    "routing.SetArcCostEvaluatorOfAllVehicles(transit_callback_index)"
   ]
  },
  {
   "attachments": {},
   "cell_type": "markdown",
   "metadata": {},
   "source": [
    "### Solution"
   ]
  },
  {
   "cell_type": "code",
   "execution_count": 11,
   "metadata": {},
   "outputs": [],
   "source": [
    "# Setting heuristic strategies\n",
    "search_parameters = pywrapcp.DefaultRoutingSearchParameters()\n",
    "\n",
    "search_parameters.local_search_metaheuristic = (\n",
    "    routing_enums_pb2.LocalSearchMetaheuristic.GUIDED_LOCAL_SEARCH\n",
    ")\n",
    "\n",
    "search_parameters.time_limit.FromSeconds(5)\n",
    "\n",
    "# Solve the problem\n",
    "solution = routing.SolveWithParameters(search_parameters)"
   ]
  },
  {
   "cell_type": "code",
   "execution_count": 12,
   "metadata": {},
   "outputs": [
    {
     "data": {
      "text/plain": [
       "1523"
      ]
     },
     "execution_count": 12,
     "metadata": {},
     "output_type": "execute_result"
    }
   ],
   "source": [
    "solution.ObjectiveValue()"
   ]
  },
  {
   "cell_type": "markdown",
   "metadata": {},
   "source": [
    "### Plot Results"
   ]
  },
  {
   "cell_type": "code",
   "execution_count": 13,
   "metadata": {},
   "outputs": [
    {
     "name": "stdout",
     "output_type": "stream",
     "text": [
      "Route for vehicle 0:\n",
      "0::Dr 0, Arr 0, Job 0 -> 18::Dr 46, Arr 46, Job 100 -> 10::Dr 33, Arr 179, Job 50 -> 9::Dr 6, Arr 235, Job 100 -> 17::Dr 116, Arr 451, Job 50 -> Schedule Finished\n",
      "Time of the route: 501min\n",
      "\n",
      "Route for vehicle 1:\n",
      "2::Dr 0, Arr 0, Job 0 -> 14::Dr 20, Arr 20, Job 50 -> 15::Dr 1, Arr 81, Job 100 -> 11::Dr 25, Arr 226, Job 50 -> Schedule Finished\n",
      "Time of the route: 276min\n",
      "\n",
      "Route for vehicle 2:\n",
      "3::Dr 0, Arr 0, Job 0 -> 8::Dr 51, Arr 51, Job 50 -> 1::Dr 9, Arr 240, Job 50 -> 7::Dr 16, Arr 336, Job 50 -> 16::Dr 72, Arr 488, Job 50 -> Schedule Finished\n",
      "Time of the route: 538min\n",
      "\n"
     ]
    }
   ],
   "source": [
    "time_dimension = routing.GetDimensionOrDie(time)\n",
    "\n",
    "for vehicle_id in range(vehicle_id):\n",
    "    index = routing.Start(vehicle_id)\n",
    "    plan_output = \"Route for vehicle {}:\\n\".format(vehicle_id)\n",
    "    previous_index = None\n",
    "\n",
    "    while not routing.IsEnd(index):\n",
    "\n",
    "        node_index = manager.IndexToNode(index)\n",
    "        time_var = time_dimension.CumulVar(index)\n",
    "\n",
    "        if previous_index is not None:\n",
    "            drive_time = time_matrix[previous_index, index]\n",
    "        else:\n",
    "            drive_time = 0\n",
    "\n",
    "        plan_output += \"{0}::Dr {3}, Arr {1}, Job {2} -> \".format(\n",
    "            node_index,\n",
    "            solution.Min(time_var),\n",
    "            service_time_dict[dataset.loc[node_index, \"job_type\"]],\n",
    "            drive_time,\n",
    "        )\n",
    "\n",
    "        previous_index = index\n",
    "        index = solution.Value(routing.NextVar(index))\n",
    "\n",
    "    if allow_arbitrary_end_locations:\n",
    "        plan_output += f\"Schedule Finished\"\n",
    "    else:\n",
    "        node_index = manager.IndexToNode(index)\n",
    "        time_var = time_dimension.CumulVar(index)\n",
    "\n",
    "        if previous_index is not None:\n",
    "            drive_time = time_matrix[previous_index, index]\n",
    "        else:\n",
    "            drive_time = 0\n",
    "\n",
    "        plan_output += \"{0}::Dr {3}, Arr {1}, Job {2}\".format(\n",
    "            node_index,\n",
    "            solution.Min(time_var),\n",
    "            service_time_dict[dataset.loc[node_index, \"job_type\"]],\n",
    "            drive_time,\n",
    "        )\n",
    "\n",
    "    plan_output += f\"\\nTime of the route: {solution.Min(time_var) + service_time_dict[dataset.loc[node_index, 'job_type']]}min\\n\"\n",
    "\n",
    "    print(plan_output)"
   ]
  },
  {
   "cell_type": "code",
   "execution_count": 14,
   "metadata": {},
   "outputs": [
    {
     "ename": "NameError",
     "evalue": "name 'time_callback' is not defined",
     "output_type": "error",
     "traceback": [
      "\u001b[0;31m---------------------------------------------------------------------------\u001b[0m",
      "\u001b[0;31mNameError\u001b[0m                                 Traceback (most recent call last)",
      "Cell \u001b[0;32mIn[14], line 3\u001b[0m\n\u001b[1;32m      1\u001b[0m importlib\u001b[38;5;241m.\u001b[39mreload(f)\n\u001b[1;32m      2\u001b[0m tours, travel_times \u001b[38;5;241m=\u001b[39m f\u001b[38;5;241m.\u001b[39mcompile_tours(\n\u001b[0;32m----> 3\u001b[0m     n_vehicles, routing, manager, solution, allow_arbitrary_end_locations, \u001b[43mtime_callback\u001b[49m\n\u001b[1;32m      4\u001b[0m )\n",
      "\u001b[0;31mNameError\u001b[0m: name 'time_callback' is not defined"
     ]
    }
   ],
   "source": [
    "importlib.reload(f)\n",
    "tours, travel_times = f.compile_tours(\n",
    "    n_vehicles, routing, manager, solution, allow_arbitrary_end_locations, time_callback\n",
    ")"
   ]
  },
  {
   "cell_type": "code",
   "execution_count": null,
   "metadata": {},
   "outputs": [
    {
     "data": {
      "application/vnd.plotly.v1+json": {
       "config": {
        "plotlyServerURL": "https://plot.ly"
       },
       "data": [
        {
         "marker": {
          "color": "#636EFA"
         },
         "mode": "markers",
         "name": "R0",
         "type": "scatter",
         "x": [
          0,
          35,
          27,
          22,
          28
         ],
         "y": [
          0,
          30,
          -2,
          -5,
          -121
         ]
        },
        {
         "line": {
          "color": "#636EFA"
         },
         "mode": "lines",
         "showlegend": false,
         "type": "scatter",
         "x": [
          0,
          35,
          27,
          22,
          28
         ],
         "y": [
          0,
          30,
          -2,
          -5,
          -121
         ]
        },
        {
         "marker": {
          "color": "#EF553B"
         },
         "mode": "markers",
         "name": "R1",
         "type": "scatter",
         "x": [
          -84,
          -101,
          -101,
          -94
         ],
         "y": [
          11,
          1,
          0,
          -24
         ]
        },
        {
         "line": {
          "color": "#EF553B"
         },
         "mode": "lines",
         "showlegend": false,
         "type": "scatter",
         "x": [
          -84,
          -101,
          -101,
          -94
         ],
         "y": [
          11,
          1,
          0,
          -24
         ]
        },
        {
         "marker": {
          "color": "#00CC96"
         },
         "mode": "markers",
         "name": "R2",
         "type": "scatter",
         "x": [
          -60,
          -14,
          -11,
          -4,
          -32
         ],
         "y": [
          5,
          12,
          20,
          24,
          90
         ]
        },
        {
         "line": {
          "color": "#00CC96"
         },
         "mode": "lines",
         "showlegend": false,
         "type": "scatter",
         "x": [
          -60,
          -14,
          -11,
          -4,
          -32
         ],
         "y": [
          5,
          12,
          20,
          24,
          90
         ]
        },
        {
         "marker": {
          "color": "#AB63FA"
         },
         "mode": "markers",
         "name": "R3",
         "type": "scatter",
         "x": [
          11,
          8,
          44,
          79,
          94
         ],
         "y": [
          87,
          68,
          55,
          64,
          32
         ]
        },
        {
         "line": {
          "color": "#AB63FA"
         },
         "mode": "lines",
         "showlegend": false,
         "type": "scatter",
         "x": [
          11,
          8,
          44,
          79,
          94
         ],
         "y": [
          87,
          68,
          55,
          64,
          32
         ]
        }
       ],
       "layout": {
        "legend": {
         "bgcolor": "rgba(255, 255, 255, 0.5)",
         "title": {
          "text": "Tours"
         },
         "x": 1,
         "xanchor": "left",
         "y": 1.02,
         "yanchor": "top"
        },
        "margin": {
         "b": 0,
         "l": 0,
         "r": 0,
         "t": 40
        },
        "template": {
         "data": {
          "bar": [
           {
            "error_x": {
             "color": "#2a3f5f"
            },
            "error_y": {
             "color": "#2a3f5f"
            },
            "marker": {
             "line": {
              "color": "#E5ECF6",
              "width": 0.5
             },
             "pattern": {
              "fillmode": "overlay",
              "size": 10,
              "solidity": 0.2
             }
            },
            "type": "bar"
           }
          ],
          "barpolar": [
           {
            "marker": {
             "line": {
              "color": "#E5ECF6",
              "width": 0.5
             },
             "pattern": {
              "fillmode": "overlay",
              "size": 10,
              "solidity": 0.2
             }
            },
            "type": "barpolar"
           }
          ],
          "carpet": [
           {
            "aaxis": {
             "endlinecolor": "#2a3f5f",
             "gridcolor": "white",
             "linecolor": "white",
             "minorgridcolor": "white",
             "startlinecolor": "#2a3f5f"
            },
            "baxis": {
             "endlinecolor": "#2a3f5f",
             "gridcolor": "white",
             "linecolor": "white",
             "minorgridcolor": "white",
             "startlinecolor": "#2a3f5f"
            },
            "type": "carpet"
           }
          ],
          "choropleth": [
           {
            "colorbar": {
             "outlinewidth": 0,
             "ticks": ""
            },
            "type": "choropleth"
           }
          ],
          "contour": [
           {
            "colorbar": {
             "outlinewidth": 0,
             "ticks": ""
            },
            "colorscale": [
             [
              0,
              "#0d0887"
             ],
             [
              0.1111111111111111,
              "#46039f"
             ],
             [
              0.2222222222222222,
              "#7201a8"
             ],
             [
              0.3333333333333333,
              "#9c179e"
             ],
             [
              0.4444444444444444,
              "#bd3786"
             ],
             [
              0.5555555555555556,
              "#d8576b"
             ],
             [
              0.6666666666666666,
              "#ed7953"
             ],
             [
              0.7777777777777778,
              "#fb9f3a"
             ],
             [
              0.8888888888888888,
              "#fdca26"
             ],
             [
              1,
              "#f0f921"
             ]
            ],
            "type": "contour"
           }
          ],
          "contourcarpet": [
           {
            "colorbar": {
             "outlinewidth": 0,
             "ticks": ""
            },
            "type": "contourcarpet"
           }
          ],
          "heatmap": [
           {
            "colorbar": {
             "outlinewidth": 0,
             "ticks": ""
            },
            "colorscale": [
             [
              0,
              "#0d0887"
             ],
             [
              0.1111111111111111,
              "#46039f"
             ],
             [
              0.2222222222222222,
              "#7201a8"
             ],
             [
              0.3333333333333333,
              "#9c179e"
             ],
             [
              0.4444444444444444,
              "#bd3786"
             ],
             [
              0.5555555555555556,
              "#d8576b"
             ],
             [
              0.6666666666666666,
              "#ed7953"
             ],
             [
              0.7777777777777778,
              "#fb9f3a"
             ],
             [
              0.8888888888888888,
              "#fdca26"
             ],
             [
              1,
              "#f0f921"
             ]
            ],
            "type": "heatmap"
           }
          ],
          "heatmapgl": [
           {
            "colorbar": {
             "outlinewidth": 0,
             "ticks": ""
            },
            "colorscale": [
             [
              0,
              "#0d0887"
             ],
             [
              0.1111111111111111,
              "#46039f"
             ],
             [
              0.2222222222222222,
              "#7201a8"
             ],
             [
              0.3333333333333333,
              "#9c179e"
             ],
             [
              0.4444444444444444,
              "#bd3786"
             ],
             [
              0.5555555555555556,
              "#d8576b"
             ],
             [
              0.6666666666666666,
              "#ed7953"
             ],
             [
              0.7777777777777778,
              "#fb9f3a"
             ],
             [
              0.8888888888888888,
              "#fdca26"
             ],
             [
              1,
              "#f0f921"
             ]
            ],
            "type": "heatmapgl"
           }
          ],
          "histogram": [
           {
            "marker": {
             "pattern": {
              "fillmode": "overlay",
              "size": 10,
              "solidity": 0.2
             }
            },
            "type": "histogram"
           }
          ],
          "histogram2d": [
           {
            "colorbar": {
             "outlinewidth": 0,
             "ticks": ""
            },
            "colorscale": [
             [
              0,
              "#0d0887"
             ],
             [
              0.1111111111111111,
              "#46039f"
             ],
             [
              0.2222222222222222,
              "#7201a8"
             ],
             [
              0.3333333333333333,
              "#9c179e"
             ],
             [
              0.4444444444444444,
              "#bd3786"
             ],
             [
              0.5555555555555556,
              "#d8576b"
             ],
             [
              0.6666666666666666,
              "#ed7953"
             ],
             [
              0.7777777777777778,
              "#fb9f3a"
             ],
             [
              0.8888888888888888,
              "#fdca26"
             ],
             [
              1,
              "#f0f921"
             ]
            ],
            "type": "histogram2d"
           }
          ],
          "histogram2dcontour": [
           {
            "colorbar": {
             "outlinewidth": 0,
             "ticks": ""
            },
            "colorscale": [
             [
              0,
              "#0d0887"
             ],
             [
              0.1111111111111111,
              "#46039f"
             ],
             [
              0.2222222222222222,
              "#7201a8"
             ],
             [
              0.3333333333333333,
              "#9c179e"
             ],
             [
              0.4444444444444444,
              "#bd3786"
             ],
             [
              0.5555555555555556,
              "#d8576b"
             ],
             [
              0.6666666666666666,
              "#ed7953"
             ],
             [
              0.7777777777777778,
              "#fb9f3a"
             ],
             [
              0.8888888888888888,
              "#fdca26"
             ],
             [
              1,
              "#f0f921"
             ]
            ],
            "type": "histogram2dcontour"
           }
          ],
          "mesh3d": [
           {
            "colorbar": {
             "outlinewidth": 0,
             "ticks": ""
            },
            "type": "mesh3d"
           }
          ],
          "parcoords": [
           {
            "line": {
             "colorbar": {
              "outlinewidth": 0,
              "ticks": ""
             }
            },
            "type": "parcoords"
           }
          ],
          "pie": [
           {
            "automargin": true,
            "type": "pie"
           }
          ],
          "scatter": [
           {
            "fillpattern": {
             "fillmode": "overlay",
             "size": 10,
             "solidity": 0.2
            },
            "type": "scatter"
           }
          ],
          "scatter3d": [
           {
            "line": {
             "colorbar": {
              "outlinewidth": 0,
              "ticks": ""
             }
            },
            "marker": {
             "colorbar": {
              "outlinewidth": 0,
              "ticks": ""
             }
            },
            "type": "scatter3d"
           }
          ],
          "scattercarpet": [
           {
            "marker": {
             "colorbar": {
              "outlinewidth": 0,
              "ticks": ""
             }
            },
            "type": "scattercarpet"
           }
          ],
          "scattergeo": [
           {
            "marker": {
             "colorbar": {
              "outlinewidth": 0,
              "ticks": ""
             }
            },
            "type": "scattergeo"
           }
          ],
          "scattergl": [
           {
            "marker": {
             "colorbar": {
              "outlinewidth": 0,
              "ticks": ""
             }
            },
            "type": "scattergl"
           }
          ],
          "scattermapbox": [
           {
            "marker": {
             "colorbar": {
              "outlinewidth": 0,
              "ticks": ""
             }
            },
            "type": "scattermapbox"
           }
          ],
          "scatterpolar": [
           {
            "marker": {
             "colorbar": {
              "outlinewidth": 0,
              "ticks": ""
             }
            },
            "type": "scatterpolar"
           }
          ],
          "scatterpolargl": [
           {
            "marker": {
             "colorbar": {
              "outlinewidth": 0,
              "ticks": ""
             }
            },
            "type": "scatterpolargl"
           }
          ],
          "scatterternary": [
           {
            "marker": {
             "colorbar": {
              "outlinewidth": 0,
              "ticks": ""
             }
            },
            "type": "scatterternary"
           }
          ],
          "surface": [
           {
            "colorbar": {
             "outlinewidth": 0,
             "ticks": ""
            },
            "colorscale": [
             [
              0,
              "#0d0887"
             ],
             [
              0.1111111111111111,
              "#46039f"
             ],
             [
              0.2222222222222222,
              "#7201a8"
             ],
             [
              0.3333333333333333,
              "#9c179e"
             ],
             [
              0.4444444444444444,
              "#bd3786"
             ],
             [
              0.5555555555555556,
              "#d8576b"
             ],
             [
              0.6666666666666666,
              "#ed7953"
             ],
             [
              0.7777777777777778,
              "#fb9f3a"
             ],
             [
              0.8888888888888888,
              "#fdca26"
             ],
             [
              1,
              "#f0f921"
             ]
            ],
            "type": "surface"
           }
          ],
          "table": [
           {
            "cells": {
             "fill": {
              "color": "#EBF0F8"
             },
             "line": {
              "color": "white"
             }
            },
            "header": {
             "fill": {
              "color": "#C8D4E3"
             },
             "line": {
              "color": "white"
             }
            },
            "type": "table"
           }
          ]
         },
         "layout": {
          "annotationdefaults": {
           "arrowcolor": "#2a3f5f",
           "arrowhead": 0,
           "arrowwidth": 1
          },
          "autotypenumbers": "strict",
          "coloraxis": {
           "colorbar": {
            "outlinewidth": 0,
            "ticks": ""
           }
          },
          "colorscale": {
           "diverging": [
            [
             0,
             "#8e0152"
            ],
            [
             0.1,
             "#c51b7d"
            ],
            [
             0.2,
             "#de77ae"
            ],
            [
             0.3,
             "#f1b6da"
            ],
            [
             0.4,
             "#fde0ef"
            ],
            [
             0.5,
             "#f7f7f7"
            ],
            [
             0.6,
             "#e6f5d0"
            ],
            [
             0.7,
             "#b8e186"
            ],
            [
             0.8,
             "#7fbc41"
            ],
            [
             0.9,
             "#4d9221"
            ],
            [
             1,
             "#276419"
            ]
           ],
           "sequential": [
            [
             0,
             "#0d0887"
            ],
            [
             0.1111111111111111,
             "#46039f"
            ],
            [
             0.2222222222222222,
             "#7201a8"
            ],
            [
             0.3333333333333333,
             "#9c179e"
            ],
            [
             0.4444444444444444,
             "#bd3786"
            ],
            [
             0.5555555555555556,
             "#d8576b"
            ],
            [
             0.6666666666666666,
             "#ed7953"
            ],
            [
             0.7777777777777778,
             "#fb9f3a"
            ],
            [
             0.8888888888888888,
             "#fdca26"
            ],
            [
             1,
             "#f0f921"
            ]
           ],
           "sequentialminus": [
            [
             0,
             "#0d0887"
            ],
            [
             0.1111111111111111,
             "#46039f"
            ],
            [
             0.2222222222222222,
             "#7201a8"
            ],
            [
             0.3333333333333333,
             "#9c179e"
            ],
            [
             0.4444444444444444,
             "#bd3786"
            ],
            [
             0.5555555555555556,
             "#d8576b"
            ],
            [
             0.6666666666666666,
             "#ed7953"
            ],
            [
             0.7777777777777778,
             "#fb9f3a"
            ],
            [
             0.8888888888888888,
             "#fdca26"
            ],
            [
             1,
             "#f0f921"
            ]
           ]
          },
          "colorway": [
           "#636efa",
           "#EF553B",
           "#00cc96",
           "#ab63fa",
           "#FFA15A",
           "#19d3f3",
           "#FF6692",
           "#B6E880",
           "#FF97FF",
           "#FECB52"
          ],
          "font": {
           "color": "#2a3f5f"
          },
          "geo": {
           "bgcolor": "white",
           "lakecolor": "white",
           "landcolor": "#E5ECF6",
           "showlakes": true,
           "showland": true,
           "subunitcolor": "white"
          },
          "hoverlabel": {
           "align": "left"
          },
          "hovermode": "closest",
          "mapbox": {
           "style": "light"
          },
          "paper_bgcolor": "white",
          "plot_bgcolor": "#E5ECF6",
          "polar": {
           "angularaxis": {
            "gridcolor": "white",
            "linecolor": "white",
            "ticks": ""
           },
           "bgcolor": "#E5ECF6",
           "radialaxis": {
            "gridcolor": "white",
            "linecolor": "white",
            "ticks": ""
           }
          },
          "scene": {
           "xaxis": {
            "backgroundcolor": "#E5ECF6",
            "gridcolor": "white",
            "gridwidth": 2,
            "linecolor": "white",
            "showbackground": true,
            "ticks": "",
            "zerolinecolor": "white"
           },
           "yaxis": {
            "backgroundcolor": "#E5ECF6",
            "gridcolor": "white",
            "gridwidth": 2,
            "linecolor": "white",
            "showbackground": true,
            "ticks": "",
            "zerolinecolor": "white"
           },
           "zaxis": {
            "backgroundcolor": "#E5ECF6",
            "gridcolor": "white",
            "gridwidth": 2,
            "linecolor": "white",
            "showbackground": true,
            "ticks": "",
            "zerolinecolor": "white"
           }
          },
          "shapedefaults": {
           "line": {
            "color": "#2a3f5f"
           }
          },
          "ternary": {
           "aaxis": {
            "gridcolor": "white",
            "linecolor": "white",
            "ticks": ""
           },
           "baxis": {
            "gridcolor": "white",
            "linecolor": "white",
            "ticks": ""
           },
           "bgcolor": "#E5ECF6",
           "caxis": {
            "gridcolor": "white",
            "linecolor": "white",
            "ticks": ""
           }
          },
          "title": {
           "x": 0.05
          },
          "xaxis": {
           "automargin": true,
           "gridcolor": "white",
           "linecolor": "white",
           "ticks": "",
           "title": {
            "standoff": 15
           },
           "zerolinecolor": "white",
           "zerolinewidth": 2
          },
          "yaxis": {
           "automargin": true,
           "gridcolor": "white",
           "linecolor": "white",
           "ticks": "",
           "title": {
            "standoff": 15
           },
           "zerolinecolor": "white",
           "zerolinewidth": 2
          }
         }
        },
        "title": {
         "text": "Tours Visualization"
        },
        "xaxis": {
         "title": {
          "text": "X Coordinates"
         }
        },
        "yaxis": {
         "title": {
          "text": "Y Coordinates"
         }
        }
       }
      }
     },
     "metadata": {},
     "output_type": "display_data"
    }
   ],
   "source": [
    "importlib.reload(f)\n",
    "fig = f.plot_tours(tours, coordinates)\n",
    "fig.show()"
   ]
  }
 ],
 "metadata": {
  "kernelspec": {
   "display_name": "venv",
   "language": "python",
   "name": "python3"
  },
  "language_info": {
   "codemirror_mode": {
    "name": "ipython",
    "version": 3
   },
   "file_extension": ".py",
   "mimetype": "text/x-python",
   "name": "python",
   "nbconvert_exporter": "python",
   "pygments_lexer": "ipython3",
   "version": "3.11.7"
  },
  "orig_nbformat": 4
 },
 "nbformat": 4,
 "nbformat_minor": 2
}
