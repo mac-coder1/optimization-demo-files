{
 "cells": [
  {
   "attachments": {},
   "cell_type": "markdown",
   "metadata": {},
   "source": [
    "# Heuristics - CVRP\n",
    "\n",
    "[OR-Tools Documentation](https://or-tools.github.io/docs/pdoc/ortools/constraint_solver/pywrapcp.html)\n",
    "\n",
    "To do:\n",
    "\n",
    "- Implement Engineer Input sheet (inc varying working hours)\n",
    "- Use to calculate proper metrics\n",
    "- Implement skills (and a couple more job types)\n",
    "- Allow incomplete jobs (to mimic more jobs than time available!)"
   ]
  },
  {
   "cell_type": "code",
   "execution_count": null,
   "metadata": {},
   "outputs": [],
   "source": [
    "from itertools import cycle\n",
    "\n",
    "import numpy as np\n",
    "import pandas as pd\n",
    "from scipy.spatial.distance import pdist, squareform\n",
    "import matplotlib.pyplot as plt\n",
    "import matplotlib as mpl\n",
    "from ortools.constraint_solver import routing_enums_pb2\n",
    "from ortools.constraint_solver import pywrapcp\n",
    "\n",
    "import functions as f\n",
    "import importlib"
   ]
  },
  {
   "attachments": {},
   "cell_type": "markdown",
   "metadata": {},
   "source": [
    "## Instantiate data"
   ]
  },
  {
   "cell_type": "code",
   "execution_count": null,
   "metadata": {},
   "outputs": [],
   "source": [
    "n_vehicles = 5\n",
    "seniority_multiplier = [1.6, 1, 1.2, 1.6, 1.6]\n",
    "start_locations = [4, 5, 6, 7, 10]\n",
    "end_locations = [0, 0, 0, 0, 0] #all finish at dummy variable to allow arbitrary end locations\n",
    "\n",
    "# assume indx 0 is the dummy end location\n",
    "dataset = pd.read_csv(\"./data/custom_19.csv\", index_col=0)\n",
    "dataset_copy = dataset.copy()\n",
    "\n",
    "for home_indx in start_locations:\n",
    "    dataset.loc[home_indx, \"timeslot\"] = \"AD\"\n",
    "    dataset.loc[home_indx, \"job_type\"] = \"start\"\n",
    "\n",
    "coordinates = dataset.loc[:, [\"x\", \"y\"]]\n",
    "\n",
    "N = coordinates.shape[0]"
   ]
  },
  {
   "cell_type": "code",
   "execution_count": null,
   "metadata": {},
   "outputs": [],
   "source": [
    "# time windows, each each number represents 1 minute\n",
    "time_window_dict = {\n",
    "    \"AD\": [0, 510],  # 08:00 - 16:30\n",
    "    \"AM\": [0, 240],  # 08:00 - 12:00\n",
    "    \"PM\": [240, 510],  # 12:00 - 16:30\n",
    "}\n",
    "\n",
    "service_time_dict = {\"start\": 0, \"DF-M Commision\": 50, \"DF-M Exchange\": 100, \"end\": 0}"
   ]
  },
  {
   "cell_type": "code",
   "execution_count": null,
   "metadata": {},
   "outputs": [],
   "source": [
    "time_matrix_multiplier = 1\n",
    "\n",
    "# assume travel time is proportional to euclidean distance\n",
    "time_matrix = squareform(pdist(coordinates, metric=\"euclidean\"))\n",
    "\n",
    "# reduce the drive times to make feasible solutions more likely, will adjust later!\n",
    "time_matrix = np.round(time_matrix * time_matrix_multiplier, decimals=0).astype(int)\n",
    "\n",
    "time_matrix[:, 0] = time_matrix[0, :] = (\n",
    "    0  # the end location is a dummy variable used to allow arbitrary end locations\n",
    ")"
   ]
  },
  {
   "attachments": {},
   "cell_type": "markdown",
   "metadata": {},
   "source": [
    "## Model"
   ]
  },
  {
   "cell_type": "code",
   "execution_count": null,
   "metadata": {},
   "outputs": [],
   "source": [
    "# Create the routing index manager: number of nodes, number of vehicles, depot node\n",
    "manager = pywrapcp.RoutingIndexManager(N, n_vehicles, start_locations, end_locations)\n",
    "\n",
    "# Create Routing Model\n",
    "routing = pywrapcp.RoutingModel(manager)"
   ]
  },
  {
   "attachments": {},
   "cell_type": "markdown",
   "metadata": {},
   "source": [
    "### Parameters"
   ]
  },
  {
   "cell_type": "code",
   "execution_count": null,
   "metadata": {},
   "outputs": [],
   "source": [
    "# must create a different time_callback for each vehicle\n",
    "def create_time_callback(vehicle_id):\n",
    "    def time_callback(from_index, to_index):\n",
    "        from_node = manager.IndexToNode(from_index)\n",
    "        to_node = manager.IndexToNode(to_index)\n",
    "        travel_time = time_matrix[from_node, to_node]\n",
    "\n",
    "        # convention is that job time added to drive FROM the job's node\n",
    "        service_time = int(\n",
    "            service_time_dict[dataset.loc[from_node, \"job_type\"]]\n",
    "            * seniority_multiplier[vehicle_id]\n",
    "        )\n",
    "\n",
    "        return travel_time + service_time\n",
    "\n",
    "    return time_callback\n",
    "\n",
    "\n",
    "transit_callback_indices = []\n",
    "\n",
    "# add callbacks so the solver can compute the time between nodes (including service times)\n",
    "for vehicle_id in range(n_vehicles):\n",
    "    transit_callback = create_time_callback(vehicle_id)\n",
    "    transit_callback_index = routing.RegisterTransitCallback(transit_callback)\n",
    "    transit_callback_indices.append(transit_callback_index)"
   ]
  },
  {
   "attachments": {},
   "cell_type": "markdown",
   "metadata": {},
   "source": [
    "### Constraints"
   ]
  },
  {
   "cell_type": "code",
   "execution_count": null,
   "metadata": {},
   "outputs": [],
   "source": [
    "# Define time window contraints\n",
    "time = \"Time\"\n",
    "\n",
    "# create a CumulVar, for each location AND each vehicle\n",
    "# 0 to N_locations-1 (index and node order is different!), N_locations to N_locations+N_vehicles-1\n",
    "# VERY IMPORTANT, the use index for cumVars, not the node numbers\n",
    "routing.AddDimensionWithVehicleTransits(\n",
    "    transit_callback_indices,\n",
    "    1000,  # allow waiting time\n",
    "    1000,  # maximum time per vehicle (and location but the range is set later)\n",
    "    True,  # start cumul to zero\n",
    "    time,\n",
    ")\n",
    "\n",
    "time_dimension = routing.GetDimensionOrDie(time)\n",
    "\n",
    "# add time window constraints for each location via the index!\n",
    "# cannot do for the depot as is special case\n",
    "for location_indx in dataset.index:\n",
    "    if location_indx == 0:\n",
    "        continue\n",
    "    elif location_indx in start_locations:\n",
    "        continue\n",
    "\n",
    "    timeslot = dataset.loc[location_indx, \"timeslot\"]\n",
    "\n",
    "    index = manager.NodeToIndex(location_indx)\n",
    "\n",
    "    time_dimension.CumulVar(index).SetRange(\n",
    "        time_window_dict[timeslot][0],\n",
    "        time_window_dict[timeslot][1],  # window depends on promised timeslot\n",
    "    )\n",
    "\n",
    "# Add max drive time for each vehicle\n",
    "# do this by setting the range of the end node for each vehicle\n",
    "for vehicle_id in range(n_vehicles):\n",
    "\n",
    "    end_index = routing.End(vehicle_id)\n",
    "    time_dimension.CumulVar(end_index).SetRange(0, 510)  # 8.5 hours max\n",
    "\n",
    "    # ensures engineer start during work hours, not strictly necessary but worth keeping in\n",
    "    start_index = routing.Start(vehicle_id)\n",
    "    time_dimension.CumulVar(start_index).SetRange(0, 510)  # 8.5 hours max\n",
    "\n",
    "# this for loop encourage the optimizer to minimse the time of the last job of each vehicle\n",
    "for i in range(n_vehicles):\n",
    "\n",
    "    # start as early as possible\n",
    "    routing.AddVariableMinimizedByFinalizer(time_dimension.CumulVar(routing.Start(i)))\n",
    "\n",
    "    # finish as early as possible\n",
    "    routing.AddVariableMinimizedByFinalizer(time_dimension.CumulVar(routing.End(i)))"
   ]
  },
  {
   "attachments": {},
   "cell_type": "markdown",
   "metadata": {},
   "source": [
    "### Objective"
   ]
  },
  {
   "cell_type": "code",
   "execution_count": null,
   "metadata": {},
   "outputs": [],
   "source": [
    "# The cost of each arc is vehicle dependant!\n",
    "# Must link to correct callback\n",
    "for vehicle_id in range(n_vehicles):\n",
    "    routing.SetArcCostEvaluatorOfVehicle(\n",
    "        transit_callback_indices[vehicle_id], vehicle_id\n",
    "    )"
   ]
  },
  {
   "attachments": {},
   "cell_type": "markdown",
   "metadata": {},
   "source": [
    "### Solution"
   ]
  },
  {
   "cell_type": "code",
   "execution_count": null,
   "metadata": {},
   "outputs": [],
   "source": [
    "# Setting heuristic strategies\n",
    "search_parameters = pywrapcp.DefaultRoutingSearchParameters()\n",
    "\n",
    "search_parameters.local_search_metaheuristic = (\n",
    "    routing_enums_pb2.LocalSearchMetaheuristic.GUIDED_LOCAL_SEARCH\n",
    ")\n",
    "\n",
    "search_parameters.time_limit.FromSeconds(2)\n",
    "\n",
    "# Solve the problem\n",
    "solution = routing.SolveWithParameters(search_parameters)"
   ]
  },
  {
   "cell_type": "code",
   "execution_count": null,
   "metadata": {},
   "outputs": [],
   "source": [
    "solution.ObjectiveValue()"
   ]
  },
  {
   "cell_type": "markdown",
   "metadata": {},
   "source": [
    "### Plot Results"
   ]
  },
  {
   "cell_type": "code",
   "execution_count": null,
   "metadata": {},
   "outputs": [],
   "source": [
    "calculated_objective_function_value = 0\n",
    "\n",
    "cumulative_job_drive_time = 0\n",
    "cumulative_drive_time = 0\n",
    "cumulative_job_time = 0\n",
    "\n",
    "print_val = \"Key: |Node| A:Arrival, JT:Job Time, T:Travel Time, J:Job Time\\n\\n\"\n",
    "for vehicle_id in range(n_vehicles):\n",
    "    index = routing.Start(vehicle_id)\n",
    "    previous_index = None\n",
    "\n",
    "    total_job_drive_time = 0\n",
    "    total_drive_time = 0\n",
    "    total_job_time = 0\n",
    "\n",
    "    while not routing.IsEnd(index):\n",
    "\n",
    "        previous_index = index\n",
    "        previous_node = manager.IndexToNode(index)\n",
    "\n",
    "        index = solution.Value(routing.NextVar(index))\n",
    "        node = manager.IndexToNode(index)\n",
    "\n",
    "        # arrival_time = solution.Min(time_dimension.CumulVar(previous_node))\n",
    "        arrival_time = solution.Min(time_dimension.CumulVar(previous_index))\n",
    "\n",
    "        job_drive_time = routing.GetArcCostForVehicle(previous_index, index, vehicle_id)\n",
    "\n",
    "        total_job_drive_time += job_drive_time\n",
    "\n",
    "        drive_time = time_matrix[previous_node][node]\n",
    "\n",
    "        total_drive_time += drive_time\n",
    "\n",
    "        job_time = service_time_dict[dataset.loc[previous_node, \"job_type\"]]\n",
    "\n",
    "        total_job_time += job_time\n",
    "\n",
    "        print_val += f\"|{previous_node}| A:{arrival_time}, TS: {dataset.loc[previous_node, 'timeslot']}, JT:{job_drive_time}, T:{drive_time}, J:{job_time} -> \"\n",
    "\n",
    "    index = routing.End(vehicle_id)\n",
    "    print_val += f\"Finish: {solution.Value(time_dimension.CumulVar(index))} min\\n\"\n",
    "\n",
    "    print_val += f\"Totals: JT:{total_job_drive_time}, T:{total_drive_time}, J:{total_job_time}, Finish: {solution.Value(time_dimension.CumulVar(index))} min\\n\\n\"\n",
    "\n",
    "    cumulative_job_drive_time += total_job_drive_time\n",
    "    cumulative_drive_time += total_drive_time\n",
    "    cumulative_job_time += total_job_time\n",
    "\n",
    "print_val += f\"Totals: JT:{cumulative_job_drive_time}, T:{cumulative_drive_time}, J:{cumulative_job_time}\\n\"\n",
    "print\n",
    "\n",
    "print(print_val)\n",
    "\n",
    "print(f\"Objective function value: {solution.ObjectiveValue()} min\")\n",
    "\n",
    "print(f\"Ob function directly minimises JT, not finish time\")"
   ]
  },
  {
   "cell_type": "code",
   "execution_count": null,
   "metadata": {},
   "outputs": [],
   "source": [
    "for location_indx in dataset.index:\n",
    "    if location_indx == 0:\n",
    "        continue\n",
    "    timeslot = dataset.loc[location_indx, \"timeslot\"]\n",
    "    time_var = time_dimension.CumulVar(manager.NodeToIndex(location_indx))\n",
    "    print(\n",
    "        f\"Location {location_indx} ({timeslot}):  {solution.Value(time_var)}, {time_var}\"\n",
    "    )\n",
    "\n",
    "print()\n",
    "print(\"AM: [0, 240],  # 08:00 - 12:00 \")\n",
    "print(\"PM: [240, 510],  # 12:00 - 16:30\")"
   ]
  },
  {
   "cell_type": "code",
   "execution_count": null,
   "metadata": {},
   "outputs": [],
   "source": [
    "importlib.reload(f)\n",
    "tours = f.compile_tours(n_vehicles, routing, manager, solution, True)"
   ]
  },
  {
   "cell_type": "code",
   "execution_count": null,
   "metadata": {},
   "outputs": [],
   "source": [
    "importlib.reload(f)\n",
    "fig = f.plot_tours(tours, coordinates)\n",
    "fig.show()"
   ]
  }
 ],
 "metadata": {
  "kernelspec": {
   "display_name": "venv",
   "language": "python",
   "name": "python3"
  },
  "language_info": {
   "codemirror_mode": {
    "name": "ipython",
    "version": 3
   },
   "file_extension": ".py",
   "mimetype": "text/x-python",
   "name": "python",
   "nbconvert_exporter": "python",
   "pygments_lexer": "ipython3",
   "version": "3.11.7"
  },
  "orig_nbformat": 4
 },
 "nbformat": 4,
 "nbformat_minor": 2
}
