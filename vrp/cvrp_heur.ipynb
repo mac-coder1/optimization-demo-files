{
 "cells": [
  {
   "attachments": {},
   "cell_type": "markdown",
   "metadata": {},
   "source": [
    "# Heuristics - CVRP\n",
    "\n",
    "[OR-Tools Documentation](https://or-tools.github.io/docs/pdoc/ortools/constraint_solver/pywrapcp.html)\n",
    "\n",
    "To do:\n",
    "\n",
    "- Implement skills\n",
    "- Allow incomplete jobs"
   ]
  },
  {
   "cell_type": "code",
   "execution_count": 1,
   "metadata": {},
   "outputs": [],
   "source": [
    "from itertools import cycle\n",
    "\n",
    "import numpy as np\n",
    "import pandas as pd\n",
    "from scipy.spatial.distance import pdist, squareform\n",
    "import matplotlib.pyplot as plt\n",
    "import matplotlib as mpl\n",
    "from ortools.constraint_solver import routing_enums_pb2\n",
    "from ortools.constraint_solver import pywrapcp\n",
    "\n",
    "import functions as f\n",
    "import importlib"
   ]
  },
  {
   "attachments": {},
   "cell_type": "markdown",
   "metadata": {},
   "source": [
    "## Instantiate data"
   ]
  },
  {
   "cell_type": "code",
   "execution_count": 2,
   "metadata": {},
   "outputs": [],
   "source": [
    "n_vehicles = 5\n",
    "seniority_multiplier = [1, 1, 1.2, 1.6, 1]\n",
    "start_locations = [4,5,6,7,8]\n",
    "end_locations = [0,0,0,0,0]\n",
    "\n",
    "dataset = pd.read_csv(\"./data/custom_19.csv\", index_col=0)\n",
    "dataset_copy = dataset.copy()\n",
    "\n",
    "for home_indx in start_locations:\n",
    "    dataset.loc[home_indx, \"timeslot\"] = \"AD\"\n",
    "    dataset.loc[home_indx, \"job_type\"] = \"start\"\n",
    "    \n",
    "coordinates = dataset.loc[:, [\"x\", \"y\"]]\n",
    "\n",
    "N = coordinates.shape[0]"
   ]
  },
  {
   "cell_type": "code",
   "execution_count": 3,
   "metadata": {},
   "outputs": [
    {
     "data": {
      "text/html": [
       "<div>\n",
       "<style scoped>\n",
       "    .dataframe tbody tr th:only-of-type {\n",
       "        vertical-align: middle;\n",
       "    }\n",
       "\n",
       "    .dataframe tbody tr th {\n",
       "        vertical-align: top;\n",
       "    }\n",
       "\n",
       "    .dataframe thead th {\n",
       "        text-align: right;\n",
       "    }\n",
       "</style>\n",
       "<table border=\"1\" class=\"dataframe\">\n",
       "  <thead>\n",
       "    <tr style=\"text-align: right;\">\n",
       "      <th></th>\n",
       "      <th>x</th>\n",
       "      <th>y</th>\n",
       "      <th>timeslot</th>\n",
       "      <th>job_type</th>\n",
       "    </tr>\n",
       "  </thead>\n",
       "  <tbody>\n",
       "    <tr>\n",
       "      <th>0</th>\n",
       "      <td>0</td>\n",
       "      <td>0</td>\n",
       "      <td>AD</td>\n",
       "      <td>end</td>\n",
       "    </tr>\n",
       "    <tr>\n",
       "      <th>1</th>\n",
       "      <td>-14</td>\n",
       "      <td>12</td>\n",
       "      <td>PM</td>\n",
       "      <td>DF-M Commision</td>\n",
       "    </tr>\n",
       "    <tr>\n",
       "      <th>2</th>\n",
       "      <td>-84</td>\n",
       "      <td>11</td>\n",
       "      <td>PM</td>\n",
       "      <td>DF-M Commision</td>\n",
       "    </tr>\n",
       "    <tr>\n",
       "      <th>3</th>\n",
       "      <td>-60</td>\n",
       "      <td>5</td>\n",
       "      <td>AM</td>\n",
       "      <td>DF-M Commision</td>\n",
       "    </tr>\n",
       "    <tr>\n",
       "      <th>4</th>\n",
       "      <td>79</td>\n",
       "      <td>64</td>\n",
       "      <td>AD</td>\n",
       "      <td>start</td>\n",
       "    </tr>\n",
       "    <tr>\n",
       "      <th>5</th>\n",
       "      <td>11</td>\n",
       "      <td>87</td>\n",
       "      <td>AD</td>\n",
       "      <td>start</td>\n",
       "    </tr>\n",
       "    <tr>\n",
       "      <th>6</th>\n",
       "      <td>8</td>\n",
       "      <td>68</td>\n",
       "      <td>AD</td>\n",
       "      <td>start</td>\n",
       "    </tr>\n",
       "    <tr>\n",
       "      <th>7</th>\n",
       "      <td>-4</td>\n",
       "      <td>24</td>\n",
       "      <td>AD</td>\n",
       "      <td>start</td>\n",
       "    </tr>\n",
       "    <tr>\n",
       "      <th>8</th>\n",
       "      <td>-11</td>\n",
       "      <td>20</td>\n",
       "      <td>AD</td>\n",
       "      <td>start</td>\n",
       "    </tr>\n",
       "    <tr>\n",
       "      <th>9</th>\n",
       "      <td>22</td>\n",
       "      <td>-5</td>\n",
       "      <td>AM</td>\n",
       "      <td>DF-M Exchange</td>\n",
       "    </tr>\n",
       "    <tr>\n",
       "      <th>10</th>\n",
       "      <td>27</td>\n",
       "      <td>-2</td>\n",
       "      <td>AD</td>\n",
       "      <td>DF-M Commision</td>\n",
       "    </tr>\n",
       "    <tr>\n",
       "      <th>11</th>\n",
       "      <td>-94</td>\n",
       "      <td>-24</td>\n",
       "      <td>AD</td>\n",
       "      <td>DF-M Commision</td>\n",
       "    </tr>\n",
       "    <tr>\n",
       "      <th>12</th>\n",
       "      <td>44</td>\n",
       "      <td>55</td>\n",
       "      <td>AM</td>\n",
       "      <td>DF-M Exchange</td>\n",
       "    </tr>\n",
       "    <tr>\n",
       "      <th>13</th>\n",
       "      <td>94</td>\n",
       "      <td>32</td>\n",
       "      <td>PM</td>\n",
       "      <td>DF-M Commision</td>\n",
       "    </tr>\n",
       "    <tr>\n",
       "      <th>14</th>\n",
       "      <td>-101</td>\n",
       "      <td>1</td>\n",
       "      <td>AM</td>\n",
       "      <td>DF-M Commision</td>\n",
       "    </tr>\n",
       "    <tr>\n",
       "      <th>15</th>\n",
       "      <td>-101</td>\n",
       "      <td>0</td>\n",
       "      <td>AM</td>\n",
       "      <td>DF-M Exchange</td>\n",
       "    </tr>\n",
       "    <tr>\n",
       "      <th>16</th>\n",
       "      <td>-32</td>\n",
       "      <td>90</td>\n",
       "      <td>AD</td>\n",
       "      <td>DF-M Commision</td>\n",
       "    </tr>\n",
       "    <tr>\n",
       "      <th>17</th>\n",
       "      <td>28</td>\n",
       "      <td>-121</td>\n",
       "      <td>AD</td>\n",
       "      <td>DF-M Commision</td>\n",
       "    </tr>\n",
       "    <tr>\n",
       "      <th>18</th>\n",
       "      <td>35</td>\n",
       "      <td>30</td>\n",
       "      <td>AM</td>\n",
       "      <td>DF-M Exchange</td>\n",
       "    </tr>\n",
       "  </tbody>\n",
       "</table>\n",
       "</div>"
      ],
      "text/plain": [
       "      x    y timeslot        job_type\n",
       "0     0    0       AD             end\n",
       "1   -14   12       PM  DF-M Commision\n",
       "2   -84   11       PM  DF-M Commision\n",
       "3   -60    5       AM  DF-M Commision\n",
       "4    79   64       AD           start\n",
       "5    11   87       AD           start\n",
       "6     8   68       AD           start\n",
       "7    -4   24       AD           start\n",
       "8   -11   20       AD           start\n",
       "9    22   -5       AM   DF-M Exchange\n",
       "10   27   -2       AD  DF-M Commision\n",
       "11  -94  -24       AD  DF-M Commision\n",
       "12   44   55       AM   DF-M Exchange\n",
       "13   94   32       PM  DF-M Commision\n",
       "14 -101    1       AM  DF-M Commision\n",
       "15 -101    0       AM   DF-M Exchange\n",
       "16  -32   90       AD  DF-M Commision\n",
       "17   28 -121       AD  DF-M Commision\n",
       "18   35   30       AM   DF-M Exchange"
      ]
     },
     "execution_count": 3,
     "metadata": {},
     "output_type": "execute_result"
    }
   ],
   "source": [
    "dataset"
   ]
  },
  {
   "cell_type": "code",
   "execution_count": 4,
   "metadata": {},
   "outputs": [],
   "source": [
    "# time windows, each each number represents 1 minute\n",
    "time_window_dict = {\n",
    "    \"AD\": [0, 510],  # 08:00 - 16:30\n",
    "    \"AM\": [0, 240],  # 08:00 - 12:00\n",
    "    \"PM\": [240, 510],  # 12:00 - 16:30\n",
    "}\n",
    "\n",
    "service_time_dict = {\n",
    "    \"start\": 0,\n",
    "    \"DF-M Commision\": 50,\n",
    "    \"DF-M Exchange\": 100,\n",
    "    \"end\": 0\n",
    "}"
   ]
  },
  {
   "cell_type": "code",
   "execution_count": 5,
   "metadata": {},
   "outputs": [],
   "source": [
    "time_matrix_multiplier = 1  # used to make the drive times fill the day more\n",
    "\n",
    "# assume travel time is proportional to euclidean distance\n",
    "time_matrix = squareform(pdist(coordinates, metric=\"euclidean\"))\n",
    "\n",
    "# reduce the drive times to make feasible solutions more likely, will adjust later!\n",
    "time_matrix = np.round(time_matrix * time_matrix_multiplier, decimals=0).astype(int)\n",
    "\n",
    "time_matrix[:,0] = time_matrix[0,:] = 0 # the end location is a dummy variable used to allow arbitrary end locations"
   ]
  },
  {
   "attachments": {},
   "cell_type": "markdown",
   "metadata": {},
   "source": [
    "## Model"
   ]
  },
  {
   "cell_type": "code",
   "execution_count": 6,
   "metadata": {},
   "outputs": [],
   "source": [
    "# Create the routing index manager: number of nodes, number of vehicles, depot node\n",
    "manager = pywrapcp.RoutingIndexManager(N, n_vehicles, start_locations, end_locations)\n",
    "\n",
    "# Create Routing Model\n",
    "routing = pywrapcp.RoutingModel(manager)"
   ]
  },
  {
   "cell_type": "code",
   "execution_count": 7,
   "metadata": {},
   "outputs": [
    {
     "data": {
      "text/html": [
       "<div>\n",
       "<style scoped>\n",
       "    .dataframe tbody tr th:only-of-type {\n",
       "        vertical-align: middle;\n",
       "    }\n",
       "\n",
       "    .dataframe tbody tr th {\n",
       "        vertical-align: top;\n",
       "    }\n",
       "\n",
       "    .dataframe thead th {\n",
       "        text-align: right;\n",
       "    }\n",
       "</style>\n",
       "<table border=\"1\" class=\"dataframe\">\n",
       "  <thead>\n",
       "    <tr style=\"text-align: right;\">\n",
       "      <th></th>\n",
       "      <th>x</th>\n",
       "      <th>y</th>\n",
       "      <th>timeslot</th>\n",
       "      <th>job_type</th>\n",
       "    </tr>\n",
       "  </thead>\n",
       "  <tbody>\n",
       "    <tr>\n",
       "      <th>0</th>\n",
       "      <td>0</td>\n",
       "      <td>0</td>\n",
       "      <td>AD</td>\n",
       "      <td>end</td>\n",
       "    </tr>\n",
       "    <tr>\n",
       "      <th>1</th>\n",
       "      <td>-14</td>\n",
       "      <td>12</td>\n",
       "      <td>PM</td>\n",
       "      <td>DF-M Commision</td>\n",
       "    </tr>\n",
       "    <tr>\n",
       "      <th>2</th>\n",
       "      <td>-84</td>\n",
       "      <td>11</td>\n",
       "      <td>PM</td>\n",
       "      <td>DF-M Commision</td>\n",
       "    </tr>\n",
       "    <tr>\n",
       "      <th>3</th>\n",
       "      <td>-60</td>\n",
       "      <td>5</td>\n",
       "      <td>AM</td>\n",
       "      <td>DF-M Commision</td>\n",
       "    </tr>\n",
       "    <tr>\n",
       "      <th>4</th>\n",
       "      <td>79</td>\n",
       "      <td>64</td>\n",
       "      <td>AD</td>\n",
       "      <td>start</td>\n",
       "    </tr>\n",
       "    <tr>\n",
       "      <th>5</th>\n",
       "      <td>11</td>\n",
       "      <td>87</td>\n",
       "      <td>AD</td>\n",
       "      <td>start</td>\n",
       "    </tr>\n",
       "    <tr>\n",
       "      <th>6</th>\n",
       "      <td>8</td>\n",
       "      <td>68</td>\n",
       "      <td>AD</td>\n",
       "      <td>start</td>\n",
       "    </tr>\n",
       "    <tr>\n",
       "      <th>7</th>\n",
       "      <td>-4</td>\n",
       "      <td>24</td>\n",
       "      <td>AD</td>\n",
       "      <td>start</td>\n",
       "    </tr>\n",
       "    <tr>\n",
       "      <th>8</th>\n",
       "      <td>-11</td>\n",
       "      <td>20</td>\n",
       "      <td>AD</td>\n",
       "      <td>start</td>\n",
       "    </tr>\n",
       "    <tr>\n",
       "      <th>9</th>\n",
       "      <td>22</td>\n",
       "      <td>-5</td>\n",
       "      <td>AM</td>\n",
       "      <td>DF-M Exchange</td>\n",
       "    </tr>\n",
       "    <tr>\n",
       "      <th>10</th>\n",
       "      <td>27</td>\n",
       "      <td>-2</td>\n",
       "      <td>AD</td>\n",
       "      <td>DF-M Commision</td>\n",
       "    </tr>\n",
       "    <tr>\n",
       "      <th>11</th>\n",
       "      <td>-94</td>\n",
       "      <td>-24</td>\n",
       "      <td>AD</td>\n",
       "      <td>DF-M Commision</td>\n",
       "    </tr>\n",
       "    <tr>\n",
       "      <th>12</th>\n",
       "      <td>44</td>\n",
       "      <td>55</td>\n",
       "      <td>AM</td>\n",
       "      <td>DF-M Exchange</td>\n",
       "    </tr>\n",
       "    <tr>\n",
       "      <th>13</th>\n",
       "      <td>94</td>\n",
       "      <td>32</td>\n",
       "      <td>PM</td>\n",
       "      <td>DF-M Commision</td>\n",
       "    </tr>\n",
       "    <tr>\n",
       "      <th>14</th>\n",
       "      <td>-101</td>\n",
       "      <td>1</td>\n",
       "      <td>AM</td>\n",
       "      <td>DF-M Commision</td>\n",
       "    </tr>\n",
       "    <tr>\n",
       "      <th>15</th>\n",
       "      <td>-101</td>\n",
       "      <td>0</td>\n",
       "      <td>AM</td>\n",
       "      <td>DF-M Exchange</td>\n",
       "    </tr>\n",
       "    <tr>\n",
       "      <th>16</th>\n",
       "      <td>-32</td>\n",
       "      <td>90</td>\n",
       "      <td>AD</td>\n",
       "      <td>DF-M Commision</td>\n",
       "    </tr>\n",
       "    <tr>\n",
       "      <th>17</th>\n",
       "      <td>28</td>\n",
       "      <td>-121</td>\n",
       "      <td>AD</td>\n",
       "      <td>DF-M Commision</td>\n",
       "    </tr>\n",
       "    <tr>\n",
       "      <th>18</th>\n",
       "      <td>35</td>\n",
       "      <td>30</td>\n",
       "      <td>AM</td>\n",
       "      <td>DF-M Exchange</td>\n",
       "    </tr>\n",
       "  </tbody>\n",
       "</table>\n",
       "</div>"
      ],
      "text/plain": [
       "      x    y timeslot        job_type\n",
       "0     0    0       AD             end\n",
       "1   -14   12       PM  DF-M Commision\n",
       "2   -84   11       PM  DF-M Commision\n",
       "3   -60    5       AM  DF-M Commision\n",
       "4    79   64       AD           start\n",
       "5    11   87       AD           start\n",
       "6     8   68       AD           start\n",
       "7    -4   24       AD           start\n",
       "8   -11   20       AD           start\n",
       "9    22   -5       AM   DF-M Exchange\n",
       "10   27   -2       AD  DF-M Commision\n",
       "11  -94  -24       AD  DF-M Commision\n",
       "12   44   55       AM   DF-M Exchange\n",
       "13   94   32       PM  DF-M Commision\n",
       "14 -101    1       AM  DF-M Commision\n",
       "15 -101    0       AM   DF-M Exchange\n",
       "16  -32   90       AD  DF-M Commision\n",
       "17   28 -121       AD  DF-M Commision\n",
       "18   35   30       AM   DF-M Exchange"
      ]
     },
     "execution_count": 7,
     "metadata": {},
     "output_type": "execute_result"
    }
   ],
   "source": [
    "dataset"
   ]
  },
  {
   "attachments": {},
   "cell_type": "markdown",
   "metadata": {},
   "source": [
    "### Parameters"
   ]
  },
  {
   "cell_type": "code",
   "execution_count": 8,
   "metadata": {},
   "outputs": [],
   "source": [
    "# must create a different time_callback for\n",
    "def create_time_callback(vehicle_id):\n",
    "    def time_callback(from_index, to_index):\n",
    "        from_node = manager.IndexToNode(from_index)\n",
    "        to_node = manager.IndexToNode(to_index)\n",
    "        travel_time = time_matrix[from_node, to_node]\n",
    "\n",
    "        # convention is that job time added to drive FROM the job's node\n",
    "        service_time = int(\n",
    "            service_time_dict[dataset.loc[from_node, \"job_type\"]]\n",
    "            * seniority_multiplier[vehicle_id]\n",
    "        )\n",
    "\n",
    "        return travel_time + service_time\n",
    "\n",
    "    return time_callback\n",
    "\n",
    "\n",
    "transit_callback_indices = []\n",
    "\n",
    "for vehicle_id in range(n_vehicles):\n",
    "    transit_callback = create_time_callback(vehicle_id)\n",
    "    transit_callback_index = routing.RegisterTransitCallback(transit_callback)\n",
    "    transit_callback_indices.append(transit_callback_index)"
   ]
  },
  {
   "attachments": {},
   "cell_type": "markdown",
   "metadata": {},
   "source": [
    "### Constraints"
   ]
  },
  {
   "cell_type": "code",
   "execution_count": 9,
   "metadata": {},
   "outputs": [],
   "source": [
    "# Define time window contraints\n",
    "time = \"Time\"\n",
    "\n",
    "# create a CumulVar, for each location AND each vehicle\n",
    "# 0 to N_locations-1, N_locations to N_locations+N_vehicles-1\n",
    "routing.AddDimensionWithVehicleTransits(\n",
    "    transit_callback_indices,\n",
    "    600,  # allow waiting time\n",
    "    600,  # maximum time per vehicle (and location but the range is set later)\n",
    "    True,  # start cumul to zero\n",
    "    time,\n",
    ")\n",
    "\n",
    "time_dimension = routing.GetDimensionOrDie(time)\n",
    "\n",
    "for location_indx in dataset.index:\n",
    "    timeslot = dataset.loc[location_indx, \"timeslot\"]\n",
    "\n",
    "    time_dimension.CumulVar(location_indx).SetRange(\n",
    "        time_window_dict[timeslot][0],\n",
    "        time_window_dict[timeslot][1],  # window depends on promised timeslot\n",
    "    )"
   ]
  },
  {
   "attachments": {},
   "cell_type": "markdown",
   "metadata": {},
   "source": [
    "### Objective"
   ]
  },
  {
   "cell_type": "code",
   "execution_count": 10,
   "metadata": {},
   "outputs": [],
   "source": [
    "# The cost of each arc is vehicle dependant!\n",
    "for vehicle_id in range(n_vehicles):\n",
    "    routing.SetArcCostEvaluatorOfVehicle(\n",
    "        transit_callback_indices[vehicle_id], vehicle_id\n",
    "    )"
   ]
  },
  {
   "attachments": {},
   "cell_type": "markdown",
   "metadata": {},
   "source": [
    "### Solution"
   ]
  },
  {
   "cell_type": "code",
   "execution_count": 11,
   "metadata": {},
   "outputs": [],
   "source": [
    "# Setting heuristic strategies\n",
    "search_parameters = pywrapcp.DefaultRoutingSearchParameters()\n",
    "\n",
    "search_parameters.local_search_metaheuristic = (\n",
    "    routing_enums_pb2.LocalSearchMetaheuristic.GUIDED_LOCAL_SEARCH\n",
    ")\n",
    "\n",
    "search_parameters.time_limit.FromSeconds(5)\n",
    "\n",
    "# Solve the problem\n",
    "solution = routing.SolveWithParameters(search_parameters)"
   ]
  },
  {
   "cell_type": "code",
   "execution_count": 12,
   "metadata": {},
   "outputs": [
    {
     "data": {
      "text/plain": [
       "1381"
      ]
     },
     "execution_count": 12,
     "metadata": {},
     "output_type": "execute_result"
    }
   ],
   "source": [
    "solution.ObjectiveValue()"
   ]
  },
  {
   "cell_type": "markdown",
   "metadata": {},
   "source": [
    "### Plot Results"
   ]
  },
  {
   "cell_type": "code",
   "execution_count": 13,
   "metadata": {},
   "outputs": [
    {
     "name": "stdout",
     "output_type": "stream",
     "text": [
      "Key: |Node| A:Arrival, JT:Job Time, T:Travel Time, J:Job Time\n",
      "|4| A:0, TS: AD, JT:35, T:35, J:0 -> |13| A:35, TS: PM, JT:105, T:55, J:50 -> |12| A:140, TS: AM, JT:100, T:0, J:100 -> 240 min\n",
      "Vehicle Objective: 240 min \n",
      " \n",
      "|5| A:0, TS: AD, JT:62, T:62, J:0 -> |18| A:62, TS: AM, JT:133, T:33, J:100 -> |10| A:195, TS: AD, JT:56, T:6, J:50 -> |9| A:251, TS: AM, JT:216, T:116, J:100 -> |17| A:467, TS: AD, JT:50, T:0, J:50 -> 517 min\n",
      "Vehicle Objective: 517 min \n",
      " \n",
      "|6| A:0, TS: AD, JT:46, T:46, J:0 -> |16| A:46, TS: AD, JT:60, T:0, J:50 -> 106 min\n",
      "Vehicle Objective: 106 min \n",
      " \n",
      "|7| A:0, TS: AD, JT:0, T:0, J:0 -> 0 min\n",
      "Vehicle Objective: 0 min \n",
      " \n",
      "|8| A:0, TS: AD, JT:9, T:9, J:0 -> |1| A:9, TS: PM, JT:138, T:88, J:50 -> |11| A:147, TS: AD, JT:75, T:25, J:50 -> |15| A:222, TS: AM, JT:101, T:1, J:100 -> |14| A:323, TS: AM, JT:70, T:20, J:50 -> |2| A:393, TS: PM, JT:75, T:25, J:50 -> |3| A:468, TS: AM, JT:50, T:0, J:50 -> 518 min\n",
      "Vehicle Objective: 518 min \n",
      " \n",
      "\n",
      "Sum of above: 1381 min\n",
      "Objective function value: 1381 min\n"
     ]
    }
   ],
   "source": [
    "calculated_objective_function_value = 0\n",
    "\n",
    "print_val = \"Key: |Node| A:Arrival, JT:Job Time, T:Travel Time, J:Job Time\\n\"\n",
    "for vehicle_id in range(n_vehicles):\n",
    "    index = routing.Start(vehicle_id)\n",
    "    previous_index = None\n",
    "\n",
    "    total_time = 0\n",
    "    while not routing.IsEnd(index):\n",
    "\n",
    "        time_var = time_dimension.CumulVar(index)\n",
    "\n",
    "        arrival_time = solution.Value(time_var)\n",
    "\n",
    "        previous_index = index\n",
    "        previous_node = manager.IndexToNode(index)\n",
    "\n",
    "        index = solution.Value(routing.NextVar(index))\n",
    "        node = manager.IndexToNode(index)\n",
    "\n",
    "        job_drive_time = routing.GetArcCostForVehicle(previous_index,index,vehicle_id)\n",
    "\n",
    "        total_time += job_drive_time\n",
    "\n",
    "        print_val += f\"|{previous_node}| A:{arrival_time}, TS: {dataset.loc[previous_node, 'timeslot']}, JT:{job_drive_time}, T:{time_matrix[previous_node][node]}, J:{service_time_dict[dataset.loc[previous_node, 'job_type']]} -> \"\n",
    "\n",
    "    index = routing.End(vehicle_id)\n",
    "    print_val += f\"{total_time} min\\n\"\n",
    "\n",
    "    vehicle_objective = solution.Value(time_dimension.CumulVar(index))\n",
    "    print_val += f\"Vehicle Objective: {vehicle_objective} min \\n \\n\"\n",
    "\n",
    "    calculated_objective_function_value += vehicle_objective\n",
    "\n",
    "print(print_val)\n",
    "\n",
    "print(f\"Sum of above: {calculated_objective_function_value} min\")\n",
    "print(f\"Objective function value: {solution.ObjectiveValue()} min\")\n",
    "\n"
   ]
  },
  {
   "cell_type": "code",
   "execution_count": 20,
   "metadata": {},
   "outputs": [
    {
     "name": "stdout",
     "output_type": "stream",
     "text": [
      "Location 0 (AD): 9 - 9, 9\n",
      "Location 1 (PM): 393 - 393, 393\n",
      "Location 2 (PM): 468 - 468, 468\n",
      "Location 3 (AM): 0 - 0, 0\n",
      "Location 4 (AD): 0 - 0, 0\n",
      "Location 5 (AD): 0 - 0, 0\n",
      "Location 6 (AD): 0 - 0, 0\n",
      "Location 7 (AD): 0 - 0, 0\n",
      "Location 8 (AD): 251 - 294, 251\n",
      "Location 9 (AM): 195 - 238, 195\n",
      "Location 10 (AD): 147 - 147, 147\n",
      "Location 11 (AD): 140 - 140, 140\n",
      "Location 12 (AM): 35 - 35, 35\n",
      "Location 13 (PM): 323 - 323, 323\n",
      "Location 14 (AM): 222 - 222, 222\n",
      "Location 15 (AM): 46 - 240, 46\n",
      "Location 16 (AD): 467 - 510, 467\n",
      "Location 17 (AD): 62 - 105, 62\n",
      "Location 18 (AM): 240 - 240, 240\n"
     ]
    }
   ],
   "source": [
    "for location_indx in dataset.index:\n",
    "    timeslot = dataset.loc[location_indx, \"timeslot\"]\n",
    "    time_var = time_dimension.CumulVar(location_indx)\n",
    "    print(f\"Location {location_indx} ({timeslot}): {solution.Min(time_var)} - {solution.Max(time_var)}, {solution.Value(time_var)}\")"
   ]
  },
  {
   "cell_type": "code",
   "execution_count": 15,
   "metadata": {},
   "outputs": [
    {
     "data": {
      "text/html": [
       "<div>\n",
       "<style scoped>\n",
       "    .dataframe tbody tr th:only-of-type {\n",
       "        vertical-align: middle;\n",
       "    }\n",
       "\n",
       "    .dataframe tbody tr th {\n",
       "        vertical-align: top;\n",
       "    }\n",
       "\n",
       "    .dataframe thead th {\n",
       "        text-align: right;\n",
       "    }\n",
       "</style>\n",
       "<table border=\"1\" class=\"dataframe\">\n",
       "  <thead>\n",
       "    <tr style=\"text-align: right;\">\n",
       "      <th></th>\n",
       "      <th>x</th>\n",
       "      <th>y</th>\n",
       "      <th>timeslot</th>\n",
       "      <th>job_type</th>\n",
       "    </tr>\n",
       "  </thead>\n",
       "  <tbody>\n",
       "    <tr>\n",
       "      <th>0</th>\n",
       "      <td>0</td>\n",
       "      <td>0</td>\n",
       "      <td>AD</td>\n",
       "      <td>end</td>\n",
       "    </tr>\n",
       "    <tr>\n",
       "      <th>1</th>\n",
       "      <td>-14</td>\n",
       "      <td>12</td>\n",
       "      <td>PM</td>\n",
       "      <td>DF-M Commision</td>\n",
       "    </tr>\n",
       "    <tr>\n",
       "      <th>2</th>\n",
       "      <td>-84</td>\n",
       "      <td>11</td>\n",
       "      <td>PM</td>\n",
       "      <td>DF-M Commision</td>\n",
       "    </tr>\n",
       "    <tr>\n",
       "      <th>3</th>\n",
       "      <td>-60</td>\n",
       "      <td>5</td>\n",
       "      <td>AM</td>\n",
       "      <td>DF-M Commision</td>\n",
       "    </tr>\n",
       "    <tr>\n",
       "      <th>4</th>\n",
       "      <td>79</td>\n",
       "      <td>64</td>\n",
       "      <td>AD</td>\n",
       "      <td>start</td>\n",
       "    </tr>\n",
       "    <tr>\n",
       "      <th>5</th>\n",
       "      <td>11</td>\n",
       "      <td>87</td>\n",
       "      <td>AD</td>\n",
       "      <td>start</td>\n",
       "    </tr>\n",
       "    <tr>\n",
       "      <th>6</th>\n",
       "      <td>8</td>\n",
       "      <td>68</td>\n",
       "      <td>AD</td>\n",
       "      <td>start</td>\n",
       "    </tr>\n",
       "    <tr>\n",
       "      <th>7</th>\n",
       "      <td>-4</td>\n",
       "      <td>24</td>\n",
       "      <td>AD</td>\n",
       "      <td>start</td>\n",
       "    </tr>\n",
       "    <tr>\n",
       "      <th>8</th>\n",
       "      <td>-11</td>\n",
       "      <td>20</td>\n",
       "      <td>AD</td>\n",
       "      <td>start</td>\n",
       "    </tr>\n",
       "    <tr>\n",
       "      <th>9</th>\n",
       "      <td>22</td>\n",
       "      <td>-5</td>\n",
       "      <td>AM</td>\n",
       "      <td>DF-M Exchange</td>\n",
       "    </tr>\n",
       "    <tr>\n",
       "      <th>10</th>\n",
       "      <td>27</td>\n",
       "      <td>-2</td>\n",
       "      <td>AD</td>\n",
       "      <td>DF-M Commision</td>\n",
       "    </tr>\n",
       "    <tr>\n",
       "      <th>11</th>\n",
       "      <td>-94</td>\n",
       "      <td>-24</td>\n",
       "      <td>AD</td>\n",
       "      <td>DF-M Commision</td>\n",
       "    </tr>\n",
       "    <tr>\n",
       "      <th>12</th>\n",
       "      <td>44</td>\n",
       "      <td>55</td>\n",
       "      <td>AM</td>\n",
       "      <td>DF-M Exchange</td>\n",
       "    </tr>\n",
       "    <tr>\n",
       "      <th>13</th>\n",
       "      <td>94</td>\n",
       "      <td>32</td>\n",
       "      <td>PM</td>\n",
       "      <td>DF-M Commision</td>\n",
       "    </tr>\n",
       "    <tr>\n",
       "      <th>14</th>\n",
       "      <td>-101</td>\n",
       "      <td>1</td>\n",
       "      <td>AM</td>\n",
       "      <td>DF-M Commision</td>\n",
       "    </tr>\n",
       "    <tr>\n",
       "      <th>15</th>\n",
       "      <td>-101</td>\n",
       "      <td>0</td>\n",
       "      <td>AM</td>\n",
       "      <td>DF-M Exchange</td>\n",
       "    </tr>\n",
       "    <tr>\n",
       "      <th>16</th>\n",
       "      <td>-32</td>\n",
       "      <td>90</td>\n",
       "      <td>AD</td>\n",
       "      <td>DF-M Commision</td>\n",
       "    </tr>\n",
       "    <tr>\n",
       "      <th>17</th>\n",
       "      <td>28</td>\n",
       "      <td>-121</td>\n",
       "      <td>AD</td>\n",
       "      <td>DF-M Commision</td>\n",
       "    </tr>\n",
       "    <tr>\n",
       "      <th>18</th>\n",
       "      <td>35</td>\n",
       "      <td>30</td>\n",
       "      <td>AM</td>\n",
       "      <td>DF-M Exchange</td>\n",
       "    </tr>\n",
       "  </tbody>\n",
       "</table>\n",
       "</div>"
      ],
      "text/plain": [
       "      x    y timeslot        job_type\n",
       "0     0    0       AD             end\n",
       "1   -14   12       PM  DF-M Commision\n",
       "2   -84   11       PM  DF-M Commision\n",
       "3   -60    5       AM  DF-M Commision\n",
       "4    79   64       AD           start\n",
       "5    11   87       AD           start\n",
       "6     8   68       AD           start\n",
       "7    -4   24       AD           start\n",
       "8   -11   20       AD           start\n",
       "9    22   -5       AM   DF-M Exchange\n",
       "10   27   -2       AD  DF-M Commision\n",
       "11  -94  -24       AD  DF-M Commision\n",
       "12   44   55       AM   DF-M Exchange\n",
       "13   94   32       PM  DF-M Commision\n",
       "14 -101    1       AM  DF-M Commision\n",
       "15 -101    0       AM   DF-M Exchange\n",
       "16  -32   90       AD  DF-M Commision\n",
       "17   28 -121       AD  DF-M Commision\n",
       "18   35   30       AM   DF-M Exchange"
      ]
     },
     "execution_count": 15,
     "metadata": {},
     "output_type": "execute_result"
    }
   ],
   "source": [
    "dataset"
   ]
  },
  {
   "cell_type": "code",
   "execution_count": 16,
   "metadata": {},
   "outputs": [],
   "source": [
    "# total_time = 0\n",
    "# for index in range(N, N + n_vehicles):\n",
    "#     time_var = time_dimension.CumulVar(index)\n",
    "#     vehicle_time = solution.Min(time_var)\n",
    "#     total_time += vehicle_time\n",
    "#     print(\n",
    "#         \"Vehicle {} has a total time of {}min\".format(\n",
    "#             index - N, vehicle_time\n",
    "#         )\n",
    "#     )\n",
    "# print(f\"Total time for all vehicles: {total_time}min\")\n",
    "# print(f\"Objective value: {solution.ObjectiveValue()}\")"
   ]
  },
  {
   "cell_type": "code",
   "execution_count": 17,
   "metadata": {},
   "outputs": [],
   "source": [
    "importlib.reload(f)\n",
    "tours = f.compile_tours(\n",
    "    n_vehicles, routing, manager, solution, True\n",
    ")"
   ]
  },
  {
   "cell_type": "code",
   "execution_count": 18,
   "metadata": {},
   "outputs": [
    {
     "data": {
      "application/vnd.plotly.v1+json": {
       "config": {
        "plotlyServerURL": "https://plot.ly"
       },
       "data": [
        {
         "marker": {
          "color": "#636EFA"
         },
         "mode": "markers",
         "name": "R0",
         "type": "scatter",
         "x": [
          79,
          94,
          44
         ],
         "y": [
          64,
          32,
          55
         ]
        },
        {
         "line": {
          "color": "#636EFA"
         },
         "mode": "lines",
         "showlegend": false,
         "type": "scatter",
         "x": [
          79,
          94,
          44
         ],
         "y": [
          64,
          32,
          55
         ]
        },
        {
         "marker": {
          "color": "#EF553B"
         },
         "mode": "markers",
         "name": "R1",
         "type": "scatter",
         "x": [
          11,
          35,
          27,
          22,
          28
         ],
         "y": [
          87,
          30,
          -2,
          -5,
          -121
         ]
        },
        {
         "line": {
          "color": "#EF553B"
         },
         "mode": "lines",
         "showlegend": false,
         "type": "scatter",
         "x": [
          11,
          35,
          27,
          22,
          28
         ],
         "y": [
          87,
          30,
          -2,
          -5,
          -121
         ]
        },
        {
         "marker": {
          "color": "#00CC96"
         },
         "mode": "markers",
         "name": "R2",
         "type": "scatter",
         "x": [
          8,
          -32
         ],
         "y": [
          68,
          90
         ]
        },
        {
         "line": {
          "color": "#00CC96"
         },
         "mode": "lines",
         "showlegend": false,
         "type": "scatter",
         "x": [
          8,
          -32
         ],
         "y": [
          68,
          90
         ]
        },
        {
         "marker": {
          "color": "#AB63FA"
         },
         "mode": "markers",
         "name": "R3",
         "type": "scatter",
         "x": [
          -4
         ],
         "y": [
          24
         ]
        },
        {
         "line": {
          "color": "#AB63FA"
         },
         "mode": "lines",
         "showlegend": false,
         "type": "scatter",
         "x": [
          -4
         ],
         "y": [
          24
         ]
        },
        {
         "marker": {
          "color": "#FFA15A"
         },
         "mode": "markers",
         "name": "R4",
         "type": "scatter",
         "x": [
          -11,
          -14,
          -94,
          -101,
          -101,
          -84,
          -60
         ],
         "y": [
          20,
          12,
          -24,
          0,
          1,
          11,
          5
         ]
        },
        {
         "line": {
          "color": "#FFA15A"
         },
         "mode": "lines",
         "showlegend": false,
         "type": "scatter",
         "x": [
          -11,
          -14,
          -94,
          -101,
          -101,
          -84,
          -60
         ],
         "y": [
          20,
          12,
          -24,
          0,
          1,
          11,
          5
         ]
        }
       ],
       "layout": {
        "legend": {
         "bgcolor": "rgba(255, 255, 255, 0.5)",
         "title": {
          "text": "Tours"
         },
         "x": 1,
         "xanchor": "left",
         "y": 1.02,
         "yanchor": "top"
        },
        "margin": {
         "b": 0,
         "l": 0,
         "r": 0,
         "t": 40
        },
        "template": {
         "data": {
          "bar": [
           {
            "error_x": {
             "color": "#2a3f5f"
            },
            "error_y": {
             "color": "#2a3f5f"
            },
            "marker": {
             "line": {
              "color": "#E5ECF6",
              "width": 0.5
             },
             "pattern": {
              "fillmode": "overlay",
              "size": 10,
              "solidity": 0.2
             }
            },
            "type": "bar"
           }
          ],
          "barpolar": [
           {
            "marker": {
             "line": {
              "color": "#E5ECF6",
              "width": 0.5
             },
             "pattern": {
              "fillmode": "overlay",
              "size": 10,
              "solidity": 0.2
             }
            },
            "type": "barpolar"
           }
          ],
          "carpet": [
           {
            "aaxis": {
             "endlinecolor": "#2a3f5f",
             "gridcolor": "white",
             "linecolor": "white",
             "minorgridcolor": "white",
             "startlinecolor": "#2a3f5f"
            },
            "baxis": {
             "endlinecolor": "#2a3f5f",
             "gridcolor": "white",
             "linecolor": "white",
             "minorgridcolor": "white",
             "startlinecolor": "#2a3f5f"
            },
            "type": "carpet"
           }
          ],
          "choropleth": [
           {
            "colorbar": {
             "outlinewidth": 0,
             "ticks": ""
            },
            "type": "choropleth"
           }
          ],
          "contour": [
           {
            "colorbar": {
             "outlinewidth": 0,
             "ticks": ""
            },
            "colorscale": [
             [
              0,
              "#0d0887"
             ],
             [
              0.1111111111111111,
              "#46039f"
             ],
             [
              0.2222222222222222,
              "#7201a8"
             ],
             [
              0.3333333333333333,
              "#9c179e"
             ],
             [
              0.4444444444444444,
              "#bd3786"
             ],
             [
              0.5555555555555556,
              "#d8576b"
             ],
             [
              0.6666666666666666,
              "#ed7953"
             ],
             [
              0.7777777777777778,
              "#fb9f3a"
             ],
             [
              0.8888888888888888,
              "#fdca26"
             ],
             [
              1,
              "#f0f921"
             ]
            ],
            "type": "contour"
           }
          ],
          "contourcarpet": [
           {
            "colorbar": {
             "outlinewidth": 0,
             "ticks": ""
            },
            "type": "contourcarpet"
           }
          ],
          "heatmap": [
           {
            "colorbar": {
             "outlinewidth": 0,
             "ticks": ""
            },
            "colorscale": [
             [
              0,
              "#0d0887"
             ],
             [
              0.1111111111111111,
              "#46039f"
             ],
             [
              0.2222222222222222,
              "#7201a8"
             ],
             [
              0.3333333333333333,
              "#9c179e"
             ],
             [
              0.4444444444444444,
              "#bd3786"
             ],
             [
              0.5555555555555556,
              "#d8576b"
             ],
             [
              0.6666666666666666,
              "#ed7953"
             ],
             [
              0.7777777777777778,
              "#fb9f3a"
             ],
             [
              0.8888888888888888,
              "#fdca26"
             ],
             [
              1,
              "#f0f921"
             ]
            ],
            "type": "heatmap"
           }
          ],
          "heatmapgl": [
           {
            "colorbar": {
             "outlinewidth": 0,
             "ticks": ""
            },
            "colorscale": [
             [
              0,
              "#0d0887"
             ],
             [
              0.1111111111111111,
              "#46039f"
             ],
             [
              0.2222222222222222,
              "#7201a8"
             ],
             [
              0.3333333333333333,
              "#9c179e"
             ],
             [
              0.4444444444444444,
              "#bd3786"
             ],
             [
              0.5555555555555556,
              "#d8576b"
             ],
             [
              0.6666666666666666,
              "#ed7953"
             ],
             [
              0.7777777777777778,
              "#fb9f3a"
             ],
             [
              0.8888888888888888,
              "#fdca26"
             ],
             [
              1,
              "#f0f921"
             ]
            ],
            "type": "heatmapgl"
           }
          ],
          "histogram": [
           {
            "marker": {
             "pattern": {
              "fillmode": "overlay",
              "size": 10,
              "solidity": 0.2
             }
            },
            "type": "histogram"
           }
          ],
          "histogram2d": [
           {
            "colorbar": {
             "outlinewidth": 0,
             "ticks": ""
            },
            "colorscale": [
             [
              0,
              "#0d0887"
             ],
             [
              0.1111111111111111,
              "#46039f"
             ],
             [
              0.2222222222222222,
              "#7201a8"
             ],
             [
              0.3333333333333333,
              "#9c179e"
             ],
             [
              0.4444444444444444,
              "#bd3786"
             ],
             [
              0.5555555555555556,
              "#d8576b"
             ],
             [
              0.6666666666666666,
              "#ed7953"
             ],
             [
              0.7777777777777778,
              "#fb9f3a"
             ],
             [
              0.8888888888888888,
              "#fdca26"
             ],
             [
              1,
              "#f0f921"
             ]
            ],
            "type": "histogram2d"
           }
          ],
          "histogram2dcontour": [
           {
            "colorbar": {
             "outlinewidth": 0,
             "ticks": ""
            },
            "colorscale": [
             [
              0,
              "#0d0887"
             ],
             [
              0.1111111111111111,
              "#46039f"
             ],
             [
              0.2222222222222222,
              "#7201a8"
             ],
             [
              0.3333333333333333,
              "#9c179e"
             ],
             [
              0.4444444444444444,
              "#bd3786"
             ],
             [
              0.5555555555555556,
              "#d8576b"
             ],
             [
              0.6666666666666666,
              "#ed7953"
             ],
             [
              0.7777777777777778,
              "#fb9f3a"
             ],
             [
              0.8888888888888888,
              "#fdca26"
             ],
             [
              1,
              "#f0f921"
             ]
            ],
            "type": "histogram2dcontour"
           }
          ],
          "mesh3d": [
           {
            "colorbar": {
             "outlinewidth": 0,
             "ticks": ""
            },
            "type": "mesh3d"
           }
          ],
          "parcoords": [
           {
            "line": {
             "colorbar": {
              "outlinewidth": 0,
              "ticks": ""
             }
            },
            "type": "parcoords"
           }
          ],
          "pie": [
           {
            "automargin": true,
            "type": "pie"
           }
          ],
          "scatter": [
           {
            "fillpattern": {
             "fillmode": "overlay",
             "size": 10,
             "solidity": 0.2
            },
            "type": "scatter"
           }
          ],
          "scatter3d": [
           {
            "line": {
             "colorbar": {
              "outlinewidth": 0,
              "ticks": ""
             }
            },
            "marker": {
             "colorbar": {
              "outlinewidth": 0,
              "ticks": ""
             }
            },
            "type": "scatter3d"
           }
          ],
          "scattercarpet": [
           {
            "marker": {
             "colorbar": {
              "outlinewidth": 0,
              "ticks": ""
             }
            },
            "type": "scattercarpet"
           }
          ],
          "scattergeo": [
           {
            "marker": {
             "colorbar": {
              "outlinewidth": 0,
              "ticks": ""
             }
            },
            "type": "scattergeo"
           }
          ],
          "scattergl": [
           {
            "marker": {
             "colorbar": {
              "outlinewidth": 0,
              "ticks": ""
             }
            },
            "type": "scattergl"
           }
          ],
          "scattermapbox": [
           {
            "marker": {
             "colorbar": {
              "outlinewidth": 0,
              "ticks": ""
             }
            },
            "type": "scattermapbox"
           }
          ],
          "scatterpolar": [
           {
            "marker": {
             "colorbar": {
              "outlinewidth": 0,
              "ticks": ""
             }
            },
            "type": "scatterpolar"
           }
          ],
          "scatterpolargl": [
           {
            "marker": {
             "colorbar": {
              "outlinewidth": 0,
              "ticks": ""
             }
            },
            "type": "scatterpolargl"
           }
          ],
          "scatterternary": [
           {
            "marker": {
             "colorbar": {
              "outlinewidth": 0,
              "ticks": ""
             }
            },
            "type": "scatterternary"
           }
          ],
          "surface": [
           {
            "colorbar": {
             "outlinewidth": 0,
             "ticks": ""
            },
            "colorscale": [
             [
              0,
              "#0d0887"
             ],
             [
              0.1111111111111111,
              "#46039f"
             ],
             [
              0.2222222222222222,
              "#7201a8"
             ],
             [
              0.3333333333333333,
              "#9c179e"
             ],
             [
              0.4444444444444444,
              "#bd3786"
             ],
             [
              0.5555555555555556,
              "#d8576b"
             ],
             [
              0.6666666666666666,
              "#ed7953"
             ],
             [
              0.7777777777777778,
              "#fb9f3a"
             ],
             [
              0.8888888888888888,
              "#fdca26"
             ],
             [
              1,
              "#f0f921"
             ]
            ],
            "type": "surface"
           }
          ],
          "table": [
           {
            "cells": {
             "fill": {
              "color": "#EBF0F8"
             },
             "line": {
              "color": "white"
             }
            },
            "header": {
             "fill": {
              "color": "#C8D4E3"
             },
             "line": {
              "color": "white"
             }
            },
            "type": "table"
           }
          ]
         },
         "layout": {
          "annotationdefaults": {
           "arrowcolor": "#2a3f5f",
           "arrowhead": 0,
           "arrowwidth": 1
          },
          "autotypenumbers": "strict",
          "coloraxis": {
           "colorbar": {
            "outlinewidth": 0,
            "ticks": ""
           }
          },
          "colorscale": {
           "diverging": [
            [
             0,
             "#8e0152"
            ],
            [
             0.1,
             "#c51b7d"
            ],
            [
             0.2,
             "#de77ae"
            ],
            [
             0.3,
             "#f1b6da"
            ],
            [
             0.4,
             "#fde0ef"
            ],
            [
             0.5,
             "#f7f7f7"
            ],
            [
             0.6,
             "#e6f5d0"
            ],
            [
             0.7,
             "#b8e186"
            ],
            [
             0.8,
             "#7fbc41"
            ],
            [
             0.9,
             "#4d9221"
            ],
            [
             1,
             "#276419"
            ]
           ],
           "sequential": [
            [
             0,
             "#0d0887"
            ],
            [
             0.1111111111111111,
             "#46039f"
            ],
            [
             0.2222222222222222,
             "#7201a8"
            ],
            [
             0.3333333333333333,
             "#9c179e"
            ],
            [
             0.4444444444444444,
             "#bd3786"
            ],
            [
             0.5555555555555556,
             "#d8576b"
            ],
            [
             0.6666666666666666,
             "#ed7953"
            ],
            [
             0.7777777777777778,
             "#fb9f3a"
            ],
            [
             0.8888888888888888,
             "#fdca26"
            ],
            [
             1,
             "#f0f921"
            ]
           ],
           "sequentialminus": [
            [
             0,
             "#0d0887"
            ],
            [
             0.1111111111111111,
             "#46039f"
            ],
            [
             0.2222222222222222,
             "#7201a8"
            ],
            [
             0.3333333333333333,
             "#9c179e"
            ],
            [
             0.4444444444444444,
             "#bd3786"
            ],
            [
             0.5555555555555556,
             "#d8576b"
            ],
            [
             0.6666666666666666,
             "#ed7953"
            ],
            [
             0.7777777777777778,
             "#fb9f3a"
            ],
            [
             0.8888888888888888,
             "#fdca26"
            ],
            [
             1,
             "#f0f921"
            ]
           ]
          },
          "colorway": [
           "#636efa",
           "#EF553B",
           "#00cc96",
           "#ab63fa",
           "#FFA15A",
           "#19d3f3",
           "#FF6692",
           "#B6E880",
           "#FF97FF",
           "#FECB52"
          ],
          "font": {
           "color": "#2a3f5f"
          },
          "geo": {
           "bgcolor": "white",
           "lakecolor": "white",
           "landcolor": "#E5ECF6",
           "showlakes": true,
           "showland": true,
           "subunitcolor": "white"
          },
          "hoverlabel": {
           "align": "left"
          },
          "hovermode": "closest",
          "mapbox": {
           "style": "light"
          },
          "paper_bgcolor": "white",
          "plot_bgcolor": "#E5ECF6",
          "polar": {
           "angularaxis": {
            "gridcolor": "white",
            "linecolor": "white",
            "ticks": ""
           },
           "bgcolor": "#E5ECF6",
           "radialaxis": {
            "gridcolor": "white",
            "linecolor": "white",
            "ticks": ""
           }
          },
          "scene": {
           "xaxis": {
            "backgroundcolor": "#E5ECF6",
            "gridcolor": "white",
            "gridwidth": 2,
            "linecolor": "white",
            "showbackground": true,
            "ticks": "",
            "zerolinecolor": "white"
           },
           "yaxis": {
            "backgroundcolor": "#E5ECF6",
            "gridcolor": "white",
            "gridwidth": 2,
            "linecolor": "white",
            "showbackground": true,
            "ticks": "",
            "zerolinecolor": "white"
           },
           "zaxis": {
            "backgroundcolor": "#E5ECF6",
            "gridcolor": "white",
            "gridwidth": 2,
            "linecolor": "white",
            "showbackground": true,
            "ticks": "",
            "zerolinecolor": "white"
           }
          },
          "shapedefaults": {
           "line": {
            "color": "#2a3f5f"
           }
          },
          "ternary": {
           "aaxis": {
            "gridcolor": "white",
            "linecolor": "white",
            "ticks": ""
           },
           "baxis": {
            "gridcolor": "white",
            "linecolor": "white",
            "ticks": ""
           },
           "bgcolor": "#E5ECF6",
           "caxis": {
            "gridcolor": "white",
            "linecolor": "white",
            "ticks": ""
           }
          },
          "title": {
           "x": 0.05
          },
          "xaxis": {
           "automargin": true,
           "gridcolor": "white",
           "linecolor": "white",
           "ticks": "",
           "title": {
            "standoff": 15
           },
           "zerolinecolor": "white",
           "zerolinewidth": 2
          },
          "yaxis": {
           "automargin": true,
           "gridcolor": "white",
           "linecolor": "white",
           "ticks": "",
           "title": {
            "standoff": 15
           },
           "zerolinecolor": "white",
           "zerolinewidth": 2
          }
         }
        },
        "title": {
         "text": "Tours Visualization"
        },
        "xaxis": {
         "title": {
          "text": "X Coordinates"
         }
        },
        "yaxis": {
         "title": {
          "text": "Y Coordinates"
         }
        }
       }
      }
     },
     "metadata": {},
     "output_type": "display_data"
    }
   ],
   "source": [
    "importlib.reload(f)\n",
    "fig = f.plot_tours(tours, coordinates)\n",
    "fig.show()"
   ]
  },
  {
   "cell_type": "code",
   "execution_count": null,
   "metadata": {},
   "outputs": [
    {
     "data": {
      "application/vnd.plotly.v1+json": {
       "config": {
        "plotlyServerURL": "https://plot.ly"
       },
       "data": [
        {
         "marker": {
          "color": "#636EFA"
         },
         "mode": "markers",
         "name": "R0",
         "type": "scatter",
         "x": [
          79,
          94,
          27,
          22,
          28
         ],
         "y": [
          64,
          32,
          -2,
          -5,
          -121
         ]
        },
        {
         "line": {
          "color": "#636EFA"
         },
         "mode": "lines",
         "showlegend": false,
         "type": "scatter",
         "x": [
          79,
          94,
          27,
          22,
          28
         ],
         "y": [
          64,
          32,
          -2,
          -5,
          -121
         ]
        },
        {
         "marker": {
          "color": "#EF553B"
         },
         "mode": "markers",
         "name": "R1",
         "type": "scatter",
         "x": [
          11,
          44,
          35
         ],
         "y": [
          87,
          55,
          30
         ]
        },
        {
         "line": {
          "color": "#EF553B"
         },
         "mode": "lines",
         "showlegend": false,
         "type": "scatter",
         "x": [
          11,
          44,
          35
         ],
         "y": [
          87,
          55,
          30
         ]
        },
        {
         "marker": {
          "color": "#00CC96"
         },
         "mode": "markers",
         "name": "R2",
         "type": "scatter",
         "x": [
          8,
          -32
         ],
         "y": [
          68,
          90
         ]
        },
        {
         "line": {
          "color": "#00CC96"
         },
         "mode": "lines",
         "showlegend": false,
         "type": "scatter",
         "x": [
          8,
          -32
         ],
         "y": [
          68,
          90
         ]
        },
        {
         "marker": {
          "color": "#AB63FA"
         },
         "mode": "markers",
         "name": "R3",
         "type": "scatter",
         "x": [
          -4
         ],
         "y": [
          24
         ]
        },
        {
         "line": {
          "color": "#AB63FA"
         },
         "mode": "lines",
         "showlegend": false,
         "type": "scatter",
         "x": [
          -4
         ],
         "y": [
          24
         ]
        },
        {
         "marker": {
          "color": "#FFA15A"
         },
         "mode": "markers",
         "name": "R4",
         "type": "scatter",
         "x": [
          -11,
          -14,
          -94,
          -101,
          -101,
          -84,
          -60
         ],
         "y": [
          20,
          12,
          -24,
          0,
          1,
          11,
          5
         ]
        },
        {
         "line": {
          "color": "#FFA15A"
         },
         "mode": "lines",
         "showlegend": false,
         "type": "scatter",
         "x": [
          -11,
          -14,
          -94,
          -101,
          -101,
          -84,
          -60
         ],
         "y": [
          20,
          12,
          -24,
          0,
          1,
          11,
          5
         ]
        }
       ],
       "layout": {
        "legend": {
         "bgcolor": "rgba(255, 255, 255, 0.5)",
         "title": {
          "text": "Tours"
         },
         "x": 1,
         "xanchor": "left",
         "y": 1.02,
         "yanchor": "top"
        },
        "margin": {
         "b": 0,
         "l": 0,
         "r": 0,
         "t": 40
        },
        "template": {
         "data": {
          "bar": [
           {
            "error_x": {
             "color": "#2a3f5f"
            },
            "error_y": {
             "color": "#2a3f5f"
            },
            "marker": {
             "line": {
              "color": "#E5ECF6",
              "width": 0.5
             },
             "pattern": {
              "fillmode": "overlay",
              "size": 10,
              "solidity": 0.2
             }
            },
            "type": "bar"
           }
          ],
          "barpolar": [
           {
            "marker": {
             "line": {
              "color": "#E5ECF6",
              "width": 0.5
             },
             "pattern": {
              "fillmode": "overlay",
              "size": 10,
              "solidity": 0.2
             }
            },
            "type": "barpolar"
           }
          ],
          "carpet": [
           {
            "aaxis": {
             "endlinecolor": "#2a3f5f",
             "gridcolor": "white",
             "linecolor": "white",
             "minorgridcolor": "white",
             "startlinecolor": "#2a3f5f"
            },
            "baxis": {
             "endlinecolor": "#2a3f5f",
             "gridcolor": "white",
             "linecolor": "white",
             "minorgridcolor": "white",
             "startlinecolor": "#2a3f5f"
            },
            "type": "carpet"
           }
          ],
          "choropleth": [
           {
            "colorbar": {
             "outlinewidth": 0,
             "ticks": ""
            },
            "type": "choropleth"
           }
          ],
          "contour": [
           {
            "colorbar": {
             "outlinewidth": 0,
             "ticks": ""
            },
            "colorscale": [
             [
              0,
              "#0d0887"
             ],
             [
              0.1111111111111111,
              "#46039f"
             ],
             [
              0.2222222222222222,
              "#7201a8"
             ],
             [
              0.3333333333333333,
              "#9c179e"
             ],
             [
              0.4444444444444444,
              "#bd3786"
             ],
             [
              0.5555555555555556,
              "#d8576b"
             ],
             [
              0.6666666666666666,
              "#ed7953"
             ],
             [
              0.7777777777777778,
              "#fb9f3a"
             ],
             [
              0.8888888888888888,
              "#fdca26"
             ],
             [
              1,
              "#f0f921"
             ]
            ],
            "type": "contour"
           }
          ],
          "contourcarpet": [
           {
            "colorbar": {
             "outlinewidth": 0,
             "ticks": ""
            },
            "type": "contourcarpet"
           }
          ],
          "heatmap": [
           {
            "colorbar": {
             "outlinewidth": 0,
             "ticks": ""
            },
            "colorscale": [
             [
              0,
              "#0d0887"
             ],
             [
              0.1111111111111111,
              "#46039f"
             ],
             [
              0.2222222222222222,
              "#7201a8"
             ],
             [
              0.3333333333333333,
              "#9c179e"
             ],
             [
              0.4444444444444444,
              "#bd3786"
             ],
             [
              0.5555555555555556,
              "#d8576b"
             ],
             [
              0.6666666666666666,
              "#ed7953"
             ],
             [
              0.7777777777777778,
              "#fb9f3a"
             ],
             [
              0.8888888888888888,
              "#fdca26"
             ],
             [
              1,
              "#f0f921"
             ]
            ],
            "type": "heatmap"
           }
          ],
          "heatmapgl": [
           {
            "colorbar": {
             "outlinewidth": 0,
             "ticks": ""
            },
            "colorscale": [
             [
              0,
              "#0d0887"
             ],
             [
              0.1111111111111111,
              "#46039f"
             ],
             [
              0.2222222222222222,
              "#7201a8"
             ],
             [
              0.3333333333333333,
              "#9c179e"
             ],
             [
              0.4444444444444444,
              "#bd3786"
             ],
             [
              0.5555555555555556,
              "#d8576b"
             ],
             [
              0.6666666666666666,
              "#ed7953"
             ],
             [
              0.7777777777777778,
              "#fb9f3a"
             ],
             [
              0.8888888888888888,
              "#fdca26"
             ],
             [
              1,
              "#f0f921"
             ]
            ],
            "type": "heatmapgl"
           }
          ],
          "histogram": [
           {
            "marker": {
             "pattern": {
              "fillmode": "overlay",
              "size": 10,
              "solidity": 0.2
             }
            },
            "type": "histogram"
           }
          ],
          "histogram2d": [
           {
            "colorbar": {
             "outlinewidth": 0,
             "ticks": ""
            },
            "colorscale": [
             [
              0,
              "#0d0887"
             ],
             [
              0.1111111111111111,
              "#46039f"
             ],
             [
              0.2222222222222222,
              "#7201a8"
             ],
             [
              0.3333333333333333,
              "#9c179e"
             ],
             [
              0.4444444444444444,
              "#bd3786"
             ],
             [
              0.5555555555555556,
              "#d8576b"
             ],
             [
              0.6666666666666666,
              "#ed7953"
             ],
             [
              0.7777777777777778,
              "#fb9f3a"
             ],
             [
              0.8888888888888888,
              "#fdca26"
             ],
             [
              1,
              "#f0f921"
             ]
            ],
            "type": "histogram2d"
           }
          ],
          "histogram2dcontour": [
           {
            "colorbar": {
             "outlinewidth": 0,
             "ticks": ""
            },
            "colorscale": [
             [
              0,
              "#0d0887"
             ],
             [
              0.1111111111111111,
              "#46039f"
             ],
             [
              0.2222222222222222,
              "#7201a8"
             ],
             [
              0.3333333333333333,
              "#9c179e"
             ],
             [
              0.4444444444444444,
              "#bd3786"
             ],
             [
              0.5555555555555556,
              "#d8576b"
             ],
             [
              0.6666666666666666,
              "#ed7953"
             ],
             [
              0.7777777777777778,
              "#fb9f3a"
             ],
             [
              0.8888888888888888,
              "#fdca26"
             ],
             [
              1,
              "#f0f921"
             ]
            ],
            "type": "histogram2dcontour"
           }
          ],
          "mesh3d": [
           {
            "colorbar": {
             "outlinewidth": 0,
             "ticks": ""
            },
            "type": "mesh3d"
           }
          ],
          "parcoords": [
           {
            "line": {
             "colorbar": {
              "outlinewidth": 0,
              "ticks": ""
             }
            },
            "type": "parcoords"
           }
          ],
          "pie": [
           {
            "automargin": true,
            "type": "pie"
           }
          ],
          "scatter": [
           {
            "fillpattern": {
             "fillmode": "overlay",
             "size": 10,
             "solidity": 0.2
            },
            "type": "scatter"
           }
          ],
          "scatter3d": [
           {
            "line": {
             "colorbar": {
              "outlinewidth": 0,
              "ticks": ""
             }
            },
            "marker": {
             "colorbar": {
              "outlinewidth": 0,
              "ticks": ""
             }
            },
            "type": "scatter3d"
           }
          ],
          "scattercarpet": [
           {
            "marker": {
             "colorbar": {
              "outlinewidth": 0,
              "ticks": ""
             }
            },
            "type": "scattercarpet"
           }
          ],
          "scattergeo": [
           {
            "marker": {
             "colorbar": {
              "outlinewidth": 0,
              "ticks": ""
             }
            },
            "type": "scattergeo"
           }
          ],
          "scattergl": [
           {
            "marker": {
             "colorbar": {
              "outlinewidth": 0,
              "ticks": ""
             }
            },
            "type": "scattergl"
           }
          ],
          "scattermapbox": [
           {
            "marker": {
             "colorbar": {
              "outlinewidth": 0,
              "ticks": ""
             }
            },
            "type": "scattermapbox"
           }
          ],
          "scatterpolar": [
           {
            "marker": {
             "colorbar": {
              "outlinewidth": 0,
              "ticks": ""
             }
            },
            "type": "scatterpolar"
           }
          ],
          "scatterpolargl": [
           {
            "marker": {
             "colorbar": {
              "outlinewidth": 0,
              "ticks": ""
             }
            },
            "type": "scatterpolargl"
           }
          ],
          "scatterternary": [
           {
            "marker": {
             "colorbar": {
              "outlinewidth": 0,
              "ticks": ""
             }
            },
            "type": "scatterternary"
           }
          ],
          "surface": [
           {
            "colorbar": {
             "outlinewidth": 0,
             "ticks": ""
            },
            "colorscale": [
             [
              0,
              "#0d0887"
             ],
             [
              0.1111111111111111,
              "#46039f"
             ],
             [
              0.2222222222222222,
              "#7201a8"
             ],
             [
              0.3333333333333333,
              "#9c179e"
             ],
             [
              0.4444444444444444,
              "#bd3786"
             ],
             [
              0.5555555555555556,
              "#d8576b"
             ],
             [
              0.6666666666666666,
              "#ed7953"
             ],
             [
              0.7777777777777778,
              "#fb9f3a"
             ],
             [
              0.8888888888888888,
              "#fdca26"
             ],
             [
              1,
              "#f0f921"
             ]
            ],
            "type": "surface"
           }
          ],
          "table": [
           {
            "cells": {
             "fill": {
              "color": "#EBF0F8"
             },
             "line": {
              "color": "white"
             }
            },
            "header": {
             "fill": {
              "color": "#C8D4E3"
             },
             "line": {
              "color": "white"
             }
            },
            "type": "table"
           }
          ]
         },
         "layout": {
          "annotationdefaults": {
           "arrowcolor": "#2a3f5f",
           "arrowhead": 0,
           "arrowwidth": 1
          },
          "autotypenumbers": "strict",
          "coloraxis": {
           "colorbar": {
            "outlinewidth": 0,
            "ticks": ""
           }
          },
          "colorscale": {
           "diverging": [
            [
             0,
             "#8e0152"
            ],
            [
             0.1,
             "#c51b7d"
            ],
            [
             0.2,
             "#de77ae"
            ],
            [
             0.3,
             "#f1b6da"
            ],
            [
             0.4,
             "#fde0ef"
            ],
            [
             0.5,
             "#f7f7f7"
            ],
            [
             0.6,
             "#e6f5d0"
            ],
            [
             0.7,
             "#b8e186"
            ],
            [
             0.8,
             "#7fbc41"
            ],
            [
             0.9,
             "#4d9221"
            ],
            [
             1,
             "#276419"
            ]
           ],
           "sequential": [
            [
             0,
             "#0d0887"
            ],
            [
             0.1111111111111111,
             "#46039f"
            ],
            [
             0.2222222222222222,
             "#7201a8"
            ],
            [
             0.3333333333333333,
             "#9c179e"
            ],
            [
             0.4444444444444444,
             "#bd3786"
            ],
            [
             0.5555555555555556,
             "#d8576b"
            ],
            [
             0.6666666666666666,
             "#ed7953"
            ],
            [
             0.7777777777777778,
             "#fb9f3a"
            ],
            [
             0.8888888888888888,
             "#fdca26"
            ],
            [
             1,
             "#f0f921"
            ]
           ],
           "sequentialminus": [
            [
             0,
             "#0d0887"
            ],
            [
             0.1111111111111111,
             "#46039f"
            ],
            [
             0.2222222222222222,
             "#7201a8"
            ],
            [
             0.3333333333333333,
             "#9c179e"
            ],
            [
             0.4444444444444444,
             "#bd3786"
            ],
            [
             0.5555555555555556,
             "#d8576b"
            ],
            [
             0.6666666666666666,
             "#ed7953"
            ],
            [
             0.7777777777777778,
             "#fb9f3a"
            ],
            [
             0.8888888888888888,
             "#fdca26"
            ],
            [
             1,
             "#f0f921"
            ]
           ]
          },
          "colorway": [
           "#636efa",
           "#EF553B",
           "#00cc96",
           "#ab63fa",
           "#FFA15A",
           "#19d3f3",
           "#FF6692",
           "#B6E880",
           "#FF97FF",
           "#FECB52"
          ],
          "font": {
           "color": "#2a3f5f"
          },
          "geo": {
           "bgcolor": "white",
           "lakecolor": "white",
           "landcolor": "#E5ECF6",
           "showlakes": true,
           "showland": true,
           "subunitcolor": "white"
          },
          "hoverlabel": {
           "align": "left"
          },
          "hovermode": "closest",
          "mapbox": {
           "style": "light"
          },
          "paper_bgcolor": "white",
          "plot_bgcolor": "#E5ECF6",
          "polar": {
           "angularaxis": {
            "gridcolor": "white",
            "linecolor": "white",
            "ticks": ""
           },
           "bgcolor": "#E5ECF6",
           "radialaxis": {
            "gridcolor": "white",
            "linecolor": "white",
            "ticks": ""
           }
          },
          "scene": {
           "xaxis": {
            "backgroundcolor": "#E5ECF6",
            "gridcolor": "white",
            "gridwidth": 2,
            "linecolor": "white",
            "showbackground": true,
            "ticks": "",
            "zerolinecolor": "white"
           },
           "yaxis": {
            "backgroundcolor": "#E5ECF6",
            "gridcolor": "white",
            "gridwidth": 2,
            "linecolor": "white",
            "showbackground": true,
            "ticks": "",
            "zerolinecolor": "white"
           },
           "zaxis": {
            "backgroundcolor": "#E5ECF6",
            "gridcolor": "white",
            "gridwidth": 2,
            "linecolor": "white",
            "showbackground": true,
            "ticks": "",
            "zerolinecolor": "white"
           }
          },
          "shapedefaults": {
           "line": {
            "color": "#2a3f5f"
           }
          },
          "ternary": {
           "aaxis": {
            "gridcolor": "white",
            "linecolor": "white",
            "ticks": ""
           },
           "baxis": {
            "gridcolor": "white",
            "linecolor": "white",
            "ticks": ""
           },
           "bgcolor": "#E5ECF6",
           "caxis": {
            "gridcolor": "white",
            "linecolor": "white",
            "ticks": ""
           }
          },
          "title": {
           "x": 0.05
          },
          "xaxis": {
           "automargin": true,
           "gridcolor": "white",
           "linecolor": "white",
           "ticks": "",
           "title": {
            "standoff": 15
           },
           "zerolinecolor": "white",
           "zerolinewidth": 2
          },
          "yaxis": {
           "automargin": true,
           "gridcolor": "white",
           "linecolor": "white",
           "ticks": "",
           "title": {
            "standoff": 15
           },
           "zerolinecolor": "white",
           "zerolinewidth": 2
          }
         }
        },
        "title": {
         "text": "Tours Visualization"
        },
        "xaxis": {
         "title": {
          "text": "X Coordinates"
         }
        },
        "yaxis": {
         "title": {
          "text": "Y Coordinates"
         }
        }
       }
      }
     },
     "metadata": {},
     "output_type": "display_data"
    }
   ],
   "source": [
    "importlib.reload(f)\n",
    "fig = f.plot_tours(tours, coordinates)\n",
    "fig.show()"
   ]
  }
 ],
 "metadata": {
  "kernelspec": {
   "display_name": "venv",
   "language": "python",
   "name": "python3"
  },
  "language_info": {
   "codemirror_mode": {
    "name": "ipython",
    "version": 3
   },
   "file_extension": ".py",
   "mimetype": "text/x-python",
   "name": "python",
   "nbconvert_exporter": "python",
   "pygments_lexer": "ipython3",
   "version": "3.11.7"
  },
  "orig_nbformat": 4
 },
 "nbformat": 4,
 "nbformat_minor": 2
}
