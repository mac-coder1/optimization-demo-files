{
 "cells": [
  {
   "attachments": {},
   "cell_type": "markdown",
   "metadata": {},
   "source": [
    "# Heuristics - CVRP"
   ]
  },
  {
   "cell_type": "code",
   "execution_count": 1,
   "metadata": {},
   "outputs": [],
   "source": [
    "from itertools import cycle\n",
    "\n",
    "import numpy as np\n",
    "import pandas as pd\n",
    "from scipy.spatial.distance import pdist, squareform\n",
    "import matplotlib.pyplot as plt\n",
    "import matplotlib as mpl\n",
    "from ortools.constraint_solver import routing_enums_pb2\n",
    "from ortools.constraint_solver import pywrapcp\n",
    "\n",
    "import functions as f\n",
    "import importlib"
   ]
  },
  {
   "attachments": {},
   "cell_type": "markdown",
   "metadata": {},
   "source": [
    "## Instantiate data"
   ]
  },
  {
   "cell_type": "code",
   "execution_count": 2,
   "metadata": {},
   "outputs": [],
   "source": [
    "dataset = pd.read_csv(\"./data/custom_19.csv\", index_col=0)\n",
    "coordinates = dataset.loc[:, [\"x\", \"y\"]]"
   ]
  },
  {
   "cell_type": "code",
   "execution_count": 3,
   "metadata": {},
   "outputs": [],
   "source": [
    "n_vehicles = 4\n",
    "seniority_multiplier = [1.6, 1, 1.6, 1]\n",
    "start_locations = [0, 2, 3, 5]\n",
    "end_locations = start_locations\n",
    "\n",
    "# set timeslots for the start locations to zero\n",
    "for home_indx in start_locations:\n",
    "    dataset.loc[home_indx, \"timeslot\"] = np.nan\n",
    "    dataset.loc[home_indx, \"job_type\"] = \"start\"\n",
    "\n",
    "allow_arbitrary_end_locations = True  # when True, the end locations are not fixed\n",
    "# this is done by adding a dummy node to the graph that has zero travel time to all locations\n",
    "\n",
    "if allow_arbitrary_end_locations:\n",
    "    end_locations = [len(coordinates)] * n_vehicles\n",
    "    arbitrary_end_location = pd.DataFrame(\n",
    "        {\"x\": {len(coordinates): 99}, \"y\": {len(coordinates): 99}}\n",
    "    )\n",
    "    coordinates = pd.concat([coordinates, arbitrary_end_location], axis=0)\n",
    "\n",
    "N = coordinates.shape[0]"
   ]
  },
  {
   "cell_type": "code",
   "execution_count": 4,
   "metadata": {},
   "outputs": [],
   "source": [
    "# time windows, each each number represents 1 minute\n",
    "time_window_dict = {\n",
    "    \"AD\": [0, 510],  # 08:00 - 16:30\n",
    "    \"AM\": [0, 240],  # 08:00 - 12:00\n",
    "    \"PM\": [240, 510],  # 12:00 - 16:30\n",
    "}\n",
    "\n",
    "service_time_dict = {\n",
    "    \"start\": 0,\n",
    "    \"DF-M Commision\": 50,\n",
    "    \"DF-M Exchange\": 100,\n",
    "}"
   ]
  },
  {
   "cell_type": "code",
   "execution_count": 5,
   "metadata": {},
   "outputs": [],
   "source": [
    "time_matrix_multiplier = 1  # used to make the drive times fill the day more\n",
    "\n",
    "# assume travel time is proportional to euclidean distance\n",
    "time_matrix = squareform(pdist(coordinates, metric=\"euclidean\"))\n",
    "\n",
    "# reduce the drive times to make feasible solutions more likely, will adjust later!\n",
    "time_matrix = np.round(time_matrix * time_matrix_multiplier, decimals=0).astype(int)\n",
    "\n",
    "if allow_arbitrary_end_locations:\n",
    "    time_matrix[:, -1] = time_matrix[-1, :] = 0\n",
    "\n",
    "    # need to add in the last location to the dataset for the time callback\n",
    "    dataset.loc[len(dataset)] = [np.nan, np.nan, np.nan, \"start\"]"
   ]
  },
  {
   "attachments": {},
   "cell_type": "markdown",
   "metadata": {},
   "source": [
    "## Model"
   ]
  },
  {
   "cell_type": "code",
   "execution_count": 6,
   "metadata": {},
   "outputs": [],
   "source": [
    "# Create the routing index manager: number of nodes, number of vehicles, depot node\n",
    "manager = pywrapcp.RoutingIndexManager(N, n_vehicles, start_locations, end_locations)\n",
    "\n",
    "# Create Routing Model\n",
    "routing = pywrapcp.RoutingModel(manager)"
   ]
  },
  {
   "attachments": {},
   "cell_type": "markdown",
   "metadata": {},
   "source": [
    "### Parameters"
   ]
  },
  {
   "cell_type": "code",
   "execution_count": 7,
   "metadata": {},
   "outputs": [],
   "source": [
    "# # Same valid for any callback related to arcs/edges\n",
    "# def time_callback(from_index, to_index):\n",
    "#     from_node = manager.IndexToNode(from_index)\n",
    "#     to_node = manager.IndexToNode(to_index)\n",
    "\n",
    "#     # vehicle_id = routing.VehicleVar(from_index).Value()\n",
    "\n",
    "#     travel_time = time_matrix[from_node, to_node]\n",
    "\n",
    "#     service_time = int(service_time_dict[dataset.loc[from_node, \"job_type\"]]) # * seniority_multiplier[vehicle_id])\n",
    "\n",
    "#     return (\n",
    "#         travel_time\n",
    "#     )\n",
    "#     # convention is that time is added upon leaving the previous node\n",
    "#     # return time_matrix[from_node, to_node] + service_time_dict[\n",
    "#     #     dataset.loc[from_node, \"job_type\"]\n",
    "#     #     ]\n",
    "\n",
    "\n",
    "# transit_callback_index = routing.RegisterTransitCallback(time_callback)"
   ]
  },
  {
   "cell_type": "code",
   "execution_count": 8,
   "metadata": {},
   "outputs": [],
   "source": [
    "def create_time_callback(vehicle_id):\n",
    "    def time_callback(from_index, to_index):\n",
    "        from_node = manager.IndexToNode(from_index)\n",
    "        to_node = manager.IndexToNode(to_index)\n",
    "        travel_time = time_matrix[from_node, to_node]\n",
    "\n",
    "        service_time = int(service_time_dict[dataset.loc[from_node, \"job_type\"]] * seniority_multiplier[vehicle_id])\n",
    "\n",
    "        return travel_time + service_time\n",
    "    \n",
    "    return time_callback\n",
    "\n",
    "transit_callback_indices = []\n",
    "\n",
    "for vehicle_id in range(n_vehicles):\n",
    "    transit_callback = create_time_callback(vehicle_id)\n",
    "    transit_callback_index = routing.RegisterTransitCallback(transit_callback)\n",
    "    transit_callback_indices.append(transit_callback_index)"
   ]
  },
  {
   "attachments": {},
   "cell_type": "markdown",
   "metadata": {},
   "source": [
    "### Constraints"
   ]
  },
  {
   "cell_type": "code",
   "execution_count": 9,
   "metadata": {},
   "outputs": [
    {
     "data": {
      "text/plain": [
       "4"
      ]
     },
     "execution_count": 9,
     "metadata": {},
     "output_type": "execute_result"
    }
   ],
   "source": [
    "transit_callback_index"
   ]
  },
  {
   "cell_type": "code",
   "execution_count": 10,
   "metadata": {},
   "outputs": [],
   "source": [
    "# Define time window contraints\n",
    "time = \"Time\"\n",
    "\n",
    "routing.AddDimensionWithVehicleTransits(\n",
    "    transit_callback_indices,\n",
    "    600,  # allow waiting time\n",
    "    600,  # maximum time per vehicle\n",
    "    True,  # start cumul to zero\n",
    "    time,\n",
    ")\n",
    "\n",
    "time_dimension = routing.GetDimensionOrDie(time)\n",
    "\n",
    "for location_indx in dataset.index:\n",
    "    timeslot = dataset.loc[location_indx, \"timeslot\"]\n",
    "\n",
    "    if timeslot is np.nan:  # no time_windows for start locations\n",
    "        continue\n",
    "\n",
    "    index = manager.NodeToIndex(location_indx)\n",
    "\n",
    "    time_dimension.CumulVar(index).SetRange(\n",
    "        time_window_dict[timeslot][0],\n",
    "        time_window_dict[timeslot][1],  # window depends on promised timeslot\n",
    "    )"
   ]
  },
  {
   "attachments": {},
   "cell_type": "markdown",
   "metadata": {},
   "source": [
    "### Objective"
   ]
  },
  {
   "cell_type": "code",
   "execution_count": 11,
   "metadata": {},
   "outputs": [
    {
     "data": {
      "text/plain": [
       "4"
      ]
     },
     "execution_count": 11,
     "metadata": {},
     "output_type": "execute_result"
    }
   ],
   "source": [
    "transit_callback_index"
   ]
  },
  {
   "cell_type": "code",
   "execution_count": 12,
   "metadata": {},
   "outputs": [
    {
     "name": "stdout",
     "output_type": "stream",
     "text": [
      "\u001b[0;31mSignature:\u001b[0m \u001b[0mrouting\u001b[0m\u001b[0;34m.\u001b[0m\u001b[0mSetArcCostEvaluatorOfVehicle\u001b[0m\u001b[0;34m(\u001b[0m\u001b[0mevaluator_index\u001b[0m\u001b[0;34m,\u001b[0m \u001b[0mvehicle\u001b[0m\u001b[0;34m)\u001b[0m\u001b[0;34m\u001b[0m\u001b[0;34m\u001b[0m\u001b[0m\n",
      "\u001b[0;31mDocstring:\u001b[0m Sets the cost function for a given vehicle route.\n",
      "\u001b[0;31mFile:\u001b[0m      ~/.local/share/virtualenvs/Data_Analysis-pQnnfNPi/lib/python3.11/site-packages/ortools/constraint_solver/pywrapcp.py\n",
      "\u001b[0;31mType:\u001b[0m      method"
     ]
    }
   ],
   "source": [
    "?routing.SetArcCostEvaluatorOfVehicle"
   ]
  },
  {
   "cell_type": "code",
   "execution_count": 13,
   "metadata": {},
   "outputs": [],
   "source": [
    "# Define cost of each arc\n",
    "for vehicle_id in range(n_vehicles):\n",
    "    routing.SetArcCostEvaluatorOfVehicle(transit_callback_indices[vehicle_id], vehicle_id)"
   ]
  },
  {
   "attachments": {},
   "cell_type": "markdown",
   "metadata": {},
   "source": [
    "### Solution"
   ]
  },
  {
   "cell_type": "code",
   "execution_count": 14,
   "metadata": {},
   "outputs": [],
   "source": [
    "# Setting heuristic strategies\n",
    "search_parameters = pywrapcp.DefaultRoutingSearchParameters()\n",
    "\n",
    "search_parameters.local_search_metaheuristic = (\n",
    "    routing_enums_pb2.LocalSearchMetaheuristic.GUIDED_LOCAL_SEARCH\n",
    ")\n",
    "\n",
    "search_parameters.time_limit.FromSeconds(5)\n",
    "\n",
    "# Solve the problem\n",
    "solution = routing.SolveWithParameters(search_parameters)"
   ]
  },
  {
   "cell_type": "code",
   "execution_count": 15,
   "metadata": {},
   "outputs": [
    {
     "data": {
      "text/plain": [
       "1725"
      ]
     },
     "execution_count": 15,
     "metadata": {},
     "output_type": "execute_result"
    }
   ],
   "source": [
    "solution.ObjectiveValue()"
   ]
  },
  {
   "cell_type": "markdown",
   "metadata": {},
   "source": [
    "### Plot Results"
   ]
  },
  {
   "cell_type": "code",
   "execution_count": 16,
   "metadata": {},
   "outputs": [
    {
     "name": "stdout",
     "output_type": "stream",
     "text": [
      "Route for vehicle 0:\n",
      "0::Dr 0, Arr 0, Job 0 -> 9::Dr 23, Arr 23, Job 160 -> 10::Dr 6, Arr 189, Job 80 -> 17::Dr 119, Arr 388, Job 80 -> Schedule Finished\n",
      "Time of the route: 438min\n",
      "\n",
      "Route for vehicle 1:\n",
      "2::Dr 0, Arr 0, Job 0 -> 14::Dr 20, Arr 20, Job 50 -> 15::Dr 1, Arr 71, Job 100 -> 11::Dr 25, Arr 196, Job 50 -> 1::Dr 88, Arr 334, Job 50 -> 8::Dr 9, Arr 393, Job 50 -> 7::Dr 8, Arr 451, Job 50 -> Schedule Finished\n",
      "Time of the route: 501min\n",
      "\n",
      "Route for vehicle 2:\n",
      "3::Dr 0, Arr 0, Job 0 -> 16::Dr 89, Arr 89, Job 80 -> Schedule Finished\n",
      "Time of the route: 139min\n",
      "\n",
      "Route for vehicle 3:\n",
      "5::Dr 0, Arr 0, Job 0 -> 6::Dr 19, Arr 19, Job 100 -> 12::Dr 38, Arr 157, Job 100 -> 4::Dr 36, Arr 293, Job 50 -> 13::Dr 35, Arr 378, Job 50 -> 18::Dr 59, Arr 487, Job 100 -> Schedule Finished\n",
      "Time of the route: 587min\n",
      "\n"
     ]
    }
   ],
   "source": [
    "time_dimension = routing.GetDimensionOrDie(time)\n",
    "\n",
    "for vehicle_id in range(n_vehicles):\n",
    "    index = routing.Start(vehicle_id)\n",
    "    plan_output = \"Route for vehicle {}:\\n\".format(vehicle_id)\n",
    "    previous_index = None\n",
    "\n",
    "    while not routing.IsEnd(index):\n",
    "\n",
    "        node_index = manager.IndexToNode(index)\n",
    "        time_var = time_dimension.CumulVar(index)\n",
    "\n",
    "        if previous_index is not None:\n",
    "            drive_time = time_matrix[previous_index, index]\n",
    "        else:\n",
    "            drive_time = 0\n",
    "\n",
    "        plan_output += \"{0}::Dr {3}, Arr {1}, Job {2} -> \".format(\n",
    "            node_index,\n",
    "            solution.Min(time_var),\n",
    "            int(service_time_dict[dataset.loc[node_index, \"job_type\"]] * seniority_multiplier[vehicle_id]),\n",
    "            drive_time,\n",
    "        )\n",
    "\n",
    "        previous_index = index\n",
    "        index = solution.Value(routing.NextVar(index))\n",
    "\n",
    "    if allow_arbitrary_end_locations:\n",
    "        plan_output += f\"Schedule Finished\"\n",
    "    else:\n",
    "        node_index = manager.IndexToNode(index)\n",
    "        time_var = time_dimension.CumulVar(index)\n",
    "\n",
    "        if previous_index is not None:\n",
    "            drive_time = time_matrix[previous_index, index]\n",
    "        else:\n",
    "            drive_time = 0\n",
    "\n",
    "        plan_output += \"{0}::Dr {3}, Arr {1}, Job {2}\".format(\n",
    "            node_index,\n",
    "            solution.Min(time_var),\n",
    "            int(service_time_dict[dataset.loc[node_index, \"job_type\"]] * seniority_multiplier[vehicle_id]),\n",
    "            drive_time,\n",
    "        )\n",
    "\n",
    "    plan_output += f\"\\nTime of the route: {solution.Min(time_var) + service_time_dict[dataset.loc[node_index, 'job_type']]}min\\n\"\n",
    "\n",
    "    print(plan_output)"
   ]
  },
  {
   "cell_type": "code",
   "execution_count": 17,
   "metadata": {},
   "outputs": [],
   "source": [
    "importlib.reload(f)\n",
    "tours = f.compile_tours(\n",
    "    n_vehicles, routing, manager, solution, allow_arbitrary_end_locations\n",
    ")"
   ]
  },
  {
   "cell_type": "code",
   "execution_count": 18,
   "metadata": {},
   "outputs": [
    {
     "data": {
      "application/vnd.plotly.v1+json": {
       "config": {
        "plotlyServerURL": "https://plot.ly"
       },
       "data": [
        {
         "marker": {
          "color": "#636EFA"
         },
         "mode": "markers",
         "name": "R0",
         "type": "scatter",
         "x": [
          0,
          22,
          27,
          28
         ],
         "y": [
          0,
          -5,
          -2,
          -121
         ]
        },
        {
         "line": {
          "color": "#636EFA"
         },
         "mode": "lines",
         "showlegend": false,
         "type": "scatter",
         "x": [
          0,
          22,
          27,
          28
         ],
         "y": [
          0,
          -5,
          -2,
          -121
         ]
        },
        {
         "marker": {
          "color": "#EF553B"
         },
         "mode": "markers",
         "name": "R1",
         "type": "scatter",
         "x": [
          -84,
          -101,
          -101,
          -94,
          -14,
          -11,
          -4
         ],
         "y": [
          11,
          1,
          0,
          -24,
          12,
          20,
          24
         ]
        },
        {
         "line": {
          "color": "#EF553B"
         },
         "mode": "lines",
         "showlegend": false,
         "type": "scatter",
         "x": [
          -84,
          -101,
          -101,
          -94,
          -14,
          -11,
          -4
         ],
         "y": [
          11,
          1,
          0,
          -24,
          12,
          20,
          24
         ]
        },
        {
         "marker": {
          "color": "#00CC96"
         },
         "mode": "markers",
         "name": "R2",
         "type": "scatter",
         "x": [
          -60,
          -32
         ],
         "y": [
          5,
          90
         ]
        },
        {
         "line": {
          "color": "#00CC96"
         },
         "mode": "lines",
         "showlegend": false,
         "type": "scatter",
         "x": [
          -60,
          -32
         ],
         "y": [
          5,
          90
         ]
        },
        {
         "marker": {
          "color": "#AB63FA"
         },
         "mode": "markers",
         "name": "R3",
         "type": "scatter",
         "x": [
          11,
          8,
          44,
          79,
          94,
          35
         ],
         "y": [
          87,
          68,
          55,
          64,
          32,
          30
         ]
        },
        {
         "line": {
          "color": "#AB63FA"
         },
         "mode": "lines",
         "showlegend": false,
         "type": "scatter",
         "x": [
          11,
          8,
          44,
          79,
          94,
          35
         ],
         "y": [
          87,
          68,
          55,
          64,
          32,
          30
         ]
        }
       ],
       "layout": {
        "legend": {
         "bgcolor": "rgba(255, 255, 255, 0.5)",
         "title": {
          "text": "Tours"
         },
         "x": 1,
         "xanchor": "left",
         "y": 1.02,
         "yanchor": "top"
        },
        "margin": {
         "b": 0,
         "l": 0,
         "r": 0,
         "t": 40
        },
        "template": {
         "data": {
          "bar": [
           {
            "error_x": {
             "color": "#2a3f5f"
            },
            "error_y": {
             "color": "#2a3f5f"
            },
            "marker": {
             "line": {
              "color": "#E5ECF6",
              "width": 0.5
             },
             "pattern": {
              "fillmode": "overlay",
              "size": 10,
              "solidity": 0.2
             }
            },
            "type": "bar"
           }
          ],
          "barpolar": [
           {
            "marker": {
             "line": {
              "color": "#E5ECF6",
              "width": 0.5
             },
             "pattern": {
              "fillmode": "overlay",
              "size": 10,
              "solidity": 0.2
             }
            },
            "type": "barpolar"
           }
          ],
          "carpet": [
           {
            "aaxis": {
             "endlinecolor": "#2a3f5f",
             "gridcolor": "white",
             "linecolor": "white",
             "minorgridcolor": "white",
             "startlinecolor": "#2a3f5f"
            },
            "baxis": {
             "endlinecolor": "#2a3f5f",
             "gridcolor": "white",
             "linecolor": "white",
             "minorgridcolor": "white",
             "startlinecolor": "#2a3f5f"
            },
            "type": "carpet"
           }
          ],
          "choropleth": [
           {
            "colorbar": {
             "outlinewidth": 0,
             "ticks": ""
            },
            "type": "choropleth"
           }
          ],
          "contour": [
           {
            "colorbar": {
             "outlinewidth": 0,
             "ticks": ""
            },
            "colorscale": [
             [
              0,
              "#0d0887"
             ],
             [
              0.1111111111111111,
              "#46039f"
             ],
             [
              0.2222222222222222,
              "#7201a8"
             ],
             [
              0.3333333333333333,
              "#9c179e"
             ],
             [
              0.4444444444444444,
              "#bd3786"
             ],
             [
              0.5555555555555556,
              "#d8576b"
             ],
             [
              0.6666666666666666,
              "#ed7953"
             ],
             [
              0.7777777777777778,
              "#fb9f3a"
             ],
             [
              0.8888888888888888,
              "#fdca26"
             ],
             [
              1,
              "#f0f921"
             ]
            ],
            "type": "contour"
           }
          ],
          "contourcarpet": [
           {
            "colorbar": {
             "outlinewidth": 0,
             "ticks": ""
            },
            "type": "contourcarpet"
           }
          ],
          "heatmap": [
           {
            "colorbar": {
             "outlinewidth": 0,
             "ticks": ""
            },
            "colorscale": [
             [
              0,
              "#0d0887"
             ],
             [
              0.1111111111111111,
              "#46039f"
             ],
             [
              0.2222222222222222,
              "#7201a8"
             ],
             [
              0.3333333333333333,
              "#9c179e"
             ],
             [
              0.4444444444444444,
              "#bd3786"
             ],
             [
              0.5555555555555556,
              "#d8576b"
             ],
             [
              0.6666666666666666,
              "#ed7953"
             ],
             [
              0.7777777777777778,
              "#fb9f3a"
             ],
             [
              0.8888888888888888,
              "#fdca26"
             ],
             [
              1,
              "#f0f921"
             ]
            ],
            "type": "heatmap"
           }
          ],
          "heatmapgl": [
           {
            "colorbar": {
             "outlinewidth": 0,
             "ticks": ""
            },
            "colorscale": [
             [
              0,
              "#0d0887"
             ],
             [
              0.1111111111111111,
              "#46039f"
             ],
             [
              0.2222222222222222,
              "#7201a8"
             ],
             [
              0.3333333333333333,
              "#9c179e"
             ],
             [
              0.4444444444444444,
              "#bd3786"
             ],
             [
              0.5555555555555556,
              "#d8576b"
             ],
             [
              0.6666666666666666,
              "#ed7953"
             ],
             [
              0.7777777777777778,
              "#fb9f3a"
             ],
             [
              0.8888888888888888,
              "#fdca26"
             ],
             [
              1,
              "#f0f921"
             ]
            ],
            "type": "heatmapgl"
           }
          ],
          "histogram": [
           {
            "marker": {
             "pattern": {
              "fillmode": "overlay",
              "size": 10,
              "solidity": 0.2
             }
            },
            "type": "histogram"
           }
          ],
          "histogram2d": [
           {
            "colorbar": {
             "outlinewidth": 0,
             "ticks": ""
            },
            "colorscale": [
             [
              0,
              "#0d0887"
             ],
             [
              0.1111111111111111,
              "#46039f"
             ],
             [
              0.2222222222222222,
              "#7201a8"
             ],
             [
              0.3333333333333333,
              "#9c179e"
             ],
             [
              0.4444444444444444,
              "#bd3786"
             ],
             [
              0.5555555555555556,
              "#d8576b"
             ],
             [
              0.6666666666666666,
              "#ed7953"
             ],
             [
              0.7777777777777778,
              "#fb9f3a"
             ],
             [
              0.8888888888888888,
              "#fdca26"
             ],
             [
              1,
              "#f0f921"
             ]
            ],
            "type": "histogram2d"
           }
          ],
          "histogram2dcontour": [
           {
            "colorbar": {
             "outlinewidth": 0,
             "ticks": ""
            },
            "colorscale": [
             [
              0,
              "#0d0887"
             ],
             [
              0.1111111111111111,
              "#46039f"
             ],
             [
              0.2222222222222222,
              "#7201a8"
             ],
             [
              0.3333333333333333,
              "#9c179e"
             ],
             [
              0.4444444444444444,
              "#bd3786"
             ],
             [
              0.5555555555555556,
              "#d8576b"
             ],
             [
              0.6666666666666666,
              "#ed7953"
             ],
             [
              0.7777777777777778,
              "#fb9f3a"
             ],
             [
              0.8888888888888888,
              "#fdca26"
             ],
             [
              1,
              "#f0f921"
             ]
            ],
            "type": "histogram2dcontour"
           }
          ],
          "mesh3d": [
           {
            "colorbar": {
             "outlinewidth": 0,
             "ticks": ""
            },
            "type": "mesh3d"
           }
          ],
          "parcoords": [
           {
            "line": {
             "colorbar": {
              "outlinewidth": 0,
              "ticks": ""
             }
            },
            "type": "parcoords"
           }
          ],
          "pie": [
           {
            "automargin": true,
            "type": "pie"
           }
          ],
          "scatter": [
           {
            "fillpattern": {
             "fillmode": "overlay",
             "size": 10,
             "solidity": 0.2
            },
            "type": "scatter"
           }
          ],
          "scatter3d": [
           {
            "line": {
             "colorbar": {
              "outlinewidth": 0,
              "ticks": ""
             }
            },
            "marker": {
             "colorbar": {
              "outlinewidth": 0,
              "ticks": ""
             }
            },
            "type": "scatter3d"
           }
          ],
          "scattercarpet": [
           {
            "marker": {
             "colorbar": {
              "outlinewidth": 0,
              "ticks": ""
             }
            },
            "type": "scattercarpet"
           }
          ],
          "scattergeo": [
           {
            "marker": {
             "colorbar": {
              "outlinewidth": 0,
              "ticks": ""
             }
            },
            "type": "scattergeo"
           }
          ],
          "scattergl": [
           {
            "marker": {
             "colorbar": {
              "outlinewidth": 0,
              "ticks": ""
             }
            },
            "type": "scattergl"
           }
          ],
          "scattermapbox": [
           {
            "marker": {
             "colorbar": {
              "outlinewidth": 0,
              "ticks": ""
             }
            },
            "type": "scattermapbox"
           }
          ],
          "scatterpolar": [
           {
            "marker": {
             "colorbar": {
              "outlinewidth": 0,
              "ticks": ""
             }
            },
            "type": "scatterpolar"
           }
          ],
          "scatterpolargl": [
           {
            "marker": {
             "colorbar": {
              "outlinewidth": 0,
              "ticks": ""
             }
            },
            "type": "scatterpolargl"
           }
          ],
          "scatterternary": [
           {
            "marker": {
             "colorbar": {
              "outlinewidth": 0,
              "ticks": ""
             }
            },
            "type": "scatterternary"
           }
          ],
          "surface": [
           {
            "colorbar": {
             "outlinewidth": 0,
             "ticks": ""
            },
            "colorscale": [
             [
              0,
              "#0d0887"
             ],
             [
              0.1111111111111111,
              "#46039f"
             ],
             [
              0.2222222222222222,
              "#7201a8"
             ],
             [
              0.3333333333333333,
              "#9c179e"
             ],
             [
              0.4444444444444444,
              "#bd3786"
             ],
             [
              0.5555555555555556,
              "#d8576b"
             ],
             [
              0.6666666666666666,
              "#ed7953"
             ],
             [
              0.7777777777777778,
              "#fb9f3a"
             ],
             [
              0.8888888888888888,
              "#fdca26"
             ],
             [
              1,
              "#f0f921"
             ]
            ],
            "type": "surface"
           }
          ],
          "table": [
           {
            "cells": {
             "fill": {
              "color": "#EBF0F8"
             },
             "line": {
              "color": "white"
             }
            },
            "header": {
             "fill": {
              "color": "#C8D4E3"
             },
             "line": {
              "color": "white"
             }
            },
            "type": "table"
           }
          ]
         },
         "layout": {
          "annotationdefaults": {
           "arrowcolor": "#2a3f5f",
           "arrowhead": 0,
           "arrowwidth": 1
          },
          "autotypenumbers": "strict",
          "coloraxis": {
           "colorbar": {
            "outlinewidth": 0,
            "ticks": ""
           }
          },
          "colorscale": {
           "diverging": [
            [
             0,
             "#8e0152"
            ],
            [
             0.1,
             "#c51b7d"
            ],
            [
             0.2,
             "#de77ae"
            ],
            [
             0.3,
             "#f1b6da"
            ],
            [
             0.4,
             "#fde0ef"
            ],
            [
             0.5,
             "#f7f7f7"
            ],
            [
             0.6,
             "#e6f5d0"
            ],
            [
             0.7,
             "#b8e186"
            ],
            [
             0.8,
             "#7fbc41"
            ],
            [
             0.9,
             "#4d9221"
            ],
            [
             1,
             "#276419"
            ]
           ],
           "sequential": [
            [
             0,
             "#0d0887"
            ],
            [
             0.1111111111111111,
             "#46039f"
            ],
            [
             0.2222222222222222,
             "#7201a8"
            ],
            [
             0.3333333333333333,
             "#9c179e"
            ],
            [
             0.4444444444444444,
             "#bd3786"
            ],
            [
             0.5555555555555556,
             "#d8576b"
            ],
            [
             0.6666666666666666,
             "#ed7953"
            ],
            [
             0.7777777777777778,
             "#fb9f3a"
            ],
            [
             0.8888888888888888,
             "#fdca26"
            ],
            [
             1,
             "#f0f921"
            ]
           ],
           "sequentialminus": [
            [
             0,
             "#0d0887"
            ],
            [
             0.1111111111111111,
             "#46039f"
            ],
            [
             0.2222222222222222,
             "#7201a8"
            ],
            [
             0.3333333333333333,
             "#9c179e"
            ],
            [
             0.4444444444444444,
             "#bd3786"
            ],
            [
             0.5555555555555556,
             "#d8576b"
            ],
            [
             0.6666666666666666,
             "#ed7953"
            ],
            [
             0.7777777777777778,
             "#fb9f3a"
            ],
            [
             0.8888888888888888,
             "#fdca26"
            ],
            [
             1,
             "#f0f921"
            ]
           ]
          },
          "colorway": [
           "#636efa",
           "#EF553B",
           "#00cc96",
           "#ab63fa",
           "#FFA15A",
           "#19d3f3",
           "#FF6692",
           "#B6E880",
           "#FF97FF",
           "#FECB52"
          ],
          "font": {
           "color": "#2a3f5f"
          },
          "geo": {
           "bgcolor": "white",
           "lakecolor": "white",
           "landcolor": "#E5ECF6",
           "showlakes": true,
           "showland": true,
           "subunitcolor": "white"
          },
          "hoverlabel": {
           "align": "left"
          },
          "hovermode": "closest",
          "mapbox": {
           "style": "light"
          },
          "paper_bgcolor": "white",
          "plot_bgcolor": "#E5ECF6",
          "polar": {
           "angularaxis": {
            "gridcolor": "white",
            "linecolor": "white",
            "ticks": ""
           },
           "bgcolor": "#E5ECF6",
           "radialaxis": {
            "gridcolor": "white",
            "linecolor": "white",
            "ticks": ""
           }
          },
          "scene": {
           "xaxis": {
            "backgroundcolor": "#E5ECF6",
            "gridcolor": "white",
            "gridwidth": 2,
            "linecolor": "white",
            "showbackground": true,
            "ticks": "",
            "zerolinecolor": "white"
           },
           "yaxis": {
            "backgroundcolor": "#E5ECF6",
            "gridcolor": "white",
            "gridwidth": 2,
            "linecolor": "white",
            "showbackground": true,
            "ticks": "",
            "zerolinecolor": "white"
           },
           "zaxis": {
            "backgroundcolor": "#E5ECF6",
            "gridcolor": "white",
            "gridwidth": 2,
            "linecolor": "white",
            "showbackground": true,
            "ticks": "",
            "zerolinecolor": "white"
           }
          },
          "shapedefaults": {
           "line": {
            "color": "#2a3f5f"
           }
          },
          "ternary": {
           "aaxis": {
            "gridcolor": "white",
            "linecolor": "white",
            "ticks": ""
           },
           "baxis": {
            "gridcolor": "white",
            "linecolor": "white",
            "ticks": ""
           },
           "bgcolor": "#E5ECF6",
           "caxis": {
            "gridcolor": "white",
            "linecolor": "white",
            "ticks": ""
           }
          },
          "title": {
           "x": 0.05
          },
          "xaxis": {
           "automargin": true,
           "gridcolor": "white",
           "linecolor": "white",
           "ticks": "",
           "title": {
            "standoff": 15
           },
           "zerolinecolor": "white",
           "zerolinewidth": 2
          },
          "yaxis": {
           "automargin": true,
           "gridcolor": "white",
           "linecolor": "white",
           "ticks": "",
           "title": {
            "standoff": 15
           },
           "zerolinecolor": "white",
           "zerolinewidth": 2
          }
         }
        },
        "title": {
         "text": "Tours Visualization"
        },
        "xaxis": {
         "title": {
          "text": "X Coordinates"
         }
        },
        "yaxis": {
         "title": {
          "text": "Y Coordinates"
         }
        }
       }
      }
     },
     "metadata": {},
     "output_type": "display_data"
    }
   ],
   "source": [
    "importlib.reload(f)\n",
    "fig = f.plot_tours(tours, coordinates)\n",
    "fig.show()"
   ]
  }
 ],
 "metadata": {
  "kernelspec": {
   "display_name": "venv",
   "language": "python",
   "name": "python3"
  },
  "language_info": {
   "codemirror_mode": {
    "name": "ipython",
    "version": 3
   },
   "file_extension": ".py",
   "mimetype": "text/x-python",
   "name": "python",
   "nbconvert_exporter": "python",
   "pygments_lexer": "ipython3",
   "version": "3.11.7"
  },
  "orig_nbformat": 4
 },
 "nbformat": 4,
 "nbformat_minor": 2
}
